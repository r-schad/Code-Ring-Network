{
 "cells": [
  {
   "cell_type": "code",
   "execution_count": 4,
   "metadata": {},
   "outputs": [],
   "source": [
    "import numpy as np\n",
    "from scipy.integrate import solve_ivp\n",
    "from scipy.stats import norm\n",
    "import matplotlib.pyplot as plt"
   ]
  },
  {
   "cell_type": "code",
   "execution_count": 12,
   "metadata": {},
   "outputs": [],
   "source": [
    "def transform(v):\n",
    "    return 1 / (1 + (np.e ** (-40 * (v - 0.2))))"
   ]
  },
  {
   "cell_type": "code",
   "execution_count": 10,
   "metadata": {},
   "outputs": [],
   "source": [
    "t = np.linspace(0, 20, 20)\n",
    "y0 = [1.0, 0.0]\n",
    "\n",
    "def doodle(t, state, p):\n",
    "    return [\n",
    "        (1 / p['tau']) * ((-1 * p['q'] * state[0]) + np.sum(p['weights'] * p['c1']) - (p['alpha'] * state[1])),\n",
    "        (-1 * p['a'] * state[1]) + (transform(state[0]) / p['c2'])    \n",
    "    ]"
   ]
  },
  {
   "cell_type": "code",
   "execution_count": 7,
   "metadata": {},
   "outputs": [
    {
     "data": {
      "text/plain": [
       "array([0.03809952, 0.1623873 , 0.09912853])"
      ]
     },
     "execution_count": 7,
     "metadata": {},
     "output_type": "execute_result"
    }
   ],
   "source": [
    "weights = np.random.rand(3) * 0.2\n",
    "weights"
   ]
  },
  {
   "cell_type": "code",
   "execution_count": 13,
   "metadata": {},
   "outputs": [
    {
     "name": "stderr",
     "output_type": "stream",
     "text": [
      "C:\\Users\\Robbie\\AppData\\Local\\Temp\\ipykernel_22024\\724106682.py:2: RuntimeWarning: overflow encountered in scalar power\n",
      "  return 1 / (1 + (np.e ** (-40 * (v - 0.2))))\n"
     ]
    }
   ],
   "source": [
    "params = {\n",
    "    'tau': 0.2,\n",
    "    'q': 0.2,\n",
    "    'weights': weights,\n",
    "    'c1': np.ones(3)*0.2,\n",
    "    'alpha': 0.2,\n",
    "    'a': 0.2,\n",
    "    'c2': 0.2\n",
    "}\n",
    "\n",
    "for tau in [0.2, 0.5, 0.8]:\n",
    "    for q in [0.2, 0.5, 0.8]:\n",
    "        for c1 in [np.ones(3)*0.2, np.ones(3)*0.5, np.ones(3)*0.8]:\n",
    "            for alpha in [0.2, 0.5, 0.8]:\n",
    "                for a in [0.2, 0.5, 0.8]:\n",
    "                    for c2 in [0.2, 0.5, 0.8]:\n",
    "                        params = {\n",
    "                            'tau': tau,\n",
    "                            'q': q,\n",
    "                            'weights': weights,\n",
    "                            'c1': c1,\n",
    "                            'alpha': alpha,\n",
    "                            'a': a,\n",
    "                            'c2': c2\n",
    "                        }\n",
    "                        result = solve_ivp(fun=lambda t, state: doodle(t, state, params), t_span=(0,20), t_eval=t, y0=y0)\n",
    "                        if np.min(result.y[0]) >= 0 and np.max(result.y[0]) <= 1.0 and np.min(result.y[1]) >= 0 and np.max(result.y[1]) <= 1.0:\n",
    "                            fig,ax = plt.subplots()\n",
    "                            ax.plot(t,result.y[0].T,label='v_i')\n",
    "                            ax.plot(t,result.y[1].T,label='z_i')\n",
    "                            ax.legend()\n",
    "                            ax.set_ylim([0, 1])\n",
    "                            ax.set_xlabel('t')\n",
    "                            ax.set_title(f'tau={tau}|q={q}|c1={c1}|alpha={alpha}|a={a}|c2={c2}'.replace('.','p').replace('|',' - '))\n",
    "                            plt.savefig(f'plots\\\\tau={tau}|q={q}|c1={c1}|alpha={alpha}|a={a}|c2={c2}'.replace('.','p').replace('|',' - '))\n",
    "                            plt.close()\n"
   ]
  }
 ],
 "metadata": {
  "kernelspec": {
   "display_name": "Code_Ring_venv",
   "language": "python",
   "name": "python3"
  },
  "language_info": {
   "codemirror_mode": {
    "name": "ipython",
    "version": 3
   },
   "file_extension": ".py",
   "mimetype": "text/x-python",
   "name": "python",
   "nbconvert_exporter": "python",
   "pygments_lexer": "ipython3",
   "version": "3.10.0rc1"
  },
  "orig_nbformat": 4
 },
 "nbformat": 4,
 "nbformat_minor": 2
}
