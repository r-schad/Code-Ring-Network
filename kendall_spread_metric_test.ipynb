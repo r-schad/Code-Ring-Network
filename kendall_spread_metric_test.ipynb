{
 "cells": [
  {
   "cell_type": "markdown",
   "metadata": {},
   "source": [
    "# Imports"
   ]
  },
  {
   "cell_type": "code",
   "execution_count": 254,
   "metadata": {},
   "outputs": [],
   "source": [
    "import numpy as np\n",
    "import pandas as pd\n",
    "from scipy.integrate import solve_ivp\n",
    "from scipy.stats import norm, kendalltau, spearmanr, weightedtau\n",
    "import matplotlib\n",
    "%matplotlib inline\n",
    "import matplotlib.pyplot as plt\n",
    "import matplotlib.colors as mcolors\n",
    "from datetime import datetime as dt\n",
    "import os\n",
    "from tqdm import tqdm\n",
    "\n",
    "from utilities import exponential, bimodal_exponential_noise, sigmoid\n",
    "from Code_Ring_Network import CodeRingNetwork"
   ]
  },
  {
   "cell_type": "markdown",
   "metadata": {},
   "source": [
    "# Parameters"
   ]
  },
  {
   "cell_type": "code",
   "execution_count": 294,
   "metadata": {},
   "outputs": [],
   "source": [
    "ring_neurons = 36\n",
    "weight_RC_spread = 0.02\n",
    "\n",
    "code_factor = 1\n",
    "code_neurons = code_factor*ring_neurons\n",
    "\n",
    "duration_neurons = 36\n",
    "durs = 0.2\n",
    "\n",
    "map_neurons_d1 = 12\n",
    "map_neurons_d2 = 12\n",
    "weight_MC_min = 0.0\n",
    "weight_MC_max = 1.0\n",
    "map_activity_sigma = 0.0001\n",
    "\n",
    "min_activity_value = 0.2\n",
    "\n",
    "noise_num_high = 9\n",
    "noise_num_low = ring_neurons - noise_num_high\n",
    "noise_rate_high = 6\n",
    "noise_rate_low = 12\n",
    "\n",
    "tmax = 70\n",
    "tsteps = 700"
   ]
  },
  {
   "cell_type": "markdown",
   "metadata": {},
   "source": [
    "# Definitions"
   ]
  },
  {
   "cell_type": "code",
   "execution_count": 295,
   "metadata": {},
   "outputs": [
    {
     "name": "stdout",
     "output_type": "stream",
     "text": [
      "ID string: 2024-03-16 153710523328\n"
     ]
    }
   ],
   "source": [
    "crn = CodeRingNetwork(num_ring_units=ring_neurons,\n",
    "                    num_code_units=code_neurons,\n",
    "                    code_factor=code_factor,\n",
    "                    num_dur_units=duration_neurons,\n",
    "                    map_d1=map_neurons_d1, map_d2=map_neurons_d2,\n",
    "                    code_ring_spread=weight_RC_spread,\n",
    "                    noise_rate_low=noise_rate_low, noise_rate_high=noise_rate_high,\n",
    "                    noise_num_low=noise_num_low, noise_num_high=noise_num_high)"
   ]
  },
  {
   "cell_type": "code",
   "execution_count": 296,
   "metadata": {},
   "outputs": [],
   "source": [
    "# def code_spread_metric(code_activity, **metric_kwargs):\n",
    "#     n = len(code_activity)\n",
    "#     if code_activity.shape == (n,1):\n",
    "#         code_activity = code_activity.flatten()\n",
    "#     num_high = np.count_nonzero(code_activity > metric_kwargs['min_activity_value'])\n",
    "#     high_idxs = np.argwhere(code_activity > metric_kwargs['min_activity_value']).flatten()\n",
    "#     spreads = np.zeros((n, n, 2)) + 9999\n",
    "#     for i in high_idxs:\n",
    "#         for j in high_idxs:\n",
    "#             if num_high == np.count_nonzero(code_activity[i:j+1] > metric_kwargs['min_activity_value']):\n",
    "#                 spreads[i][j][0] = np.abs(i - j) + 1\n",
    "#             if num_high == np.count_nonzero(np.concatenate((code_activity[0:i+1], code_activity[j:n])) > metric_kwargs['min_activity_value']):\n",
    "#                 spreads[i][j][1] = n - np.abs(i - j) + 1\n",
    "#     min_spread = np.min(spreads)\n",
    "#     top = exponential(min_spread, rate=metric_kwargs['spread_penalty_rate'], center=num_high, init_val=1)\n",
    "#     bottom = 1 + (metric_kwargs['weight_diff_from_desired']  * np.abs(metric_kwargs['num_desired_high'] - num_high))\n",
    "#     spread_score = top / bottom\n",
    "#     print('spread', spread_score)\n",
    "#     return spread_score"
   ]
  },
  {
   "cell_type": "code",
   "execution_count": 297,
   "metadata": {},
   "outputs": [],
   "source": [
    "# def kendall_rank_metric(code_activity, **metric_kwargs):\n",
    "#     # TODO: this still doesn't account for signals that wrap around\n",
    "#     num_high = np.count_nonzero(code_activity > metric_kwargs['min_activity_value'])\n",
    "#     high_idxs = np.argwhere(code_activity > metric_kwargs['min_activity_value']).flatten()\n",
    "#     ideal = np.arange(1, num_high + 1) # values don't matter, just the order\n",
    "#     kendall = np.abs(kendalltau(code_activity[high_idxs], ideal).statistic)\n",
    "#     print('kendall', kendall)\n",
    "#     return kendall"
   ]
  },
  {
   "cell_type": "code",
   "execution_count": 298,
   "metadata": {},
   "outputs": [],
   "source": [
    "def clockwise_mono_spread_metric(code_activity, **metric_kwargs):\n",
    "    n = len(code_activity)\n",
    "    if code_activity.shape == (n,1):\n",
    "        code_activity = code_activity.flatten()\n",
    "    num_high = np.count_nonzero(code_activity > metric_kwargs['min_activity_value'])\n",
    "    high_idxs = np.argwhere(code_activity > metric_kwargs['min_activity_value']).flatten()\n",
    "    ideal = np.arange(n, 0, -1) # values don't matter, just the order\n",
    "\n",
    "    # store all scores for each i,j pair, where each pair has a chain forward\n",
    "    scores = np.zeros((n, n))\n",
    "\n",
    "    # iterate over left endpoint of chain\n",
    "    for i in high_idxs:\n",
    "        # iterate over right endpoints of chain\n",
    "        for j in high_idxs:\n",
    "            if i > j:\n",
    "                spread = n - i + j + 1\n",
    "                # get all indexes i to n-1, then 0 to j, going fwd\n",
    "                fwd_idxs_all = np.concatenate((np.arange(i, n), np.arange(0, j+1)))\n",
    "            else:\n",
    "                spread = j - i + 1\n",
    "                # get all indexes i to j going fwd\n",
    "                fwd_idxs_all = np.arange(i, j + 1)\n",
    "            # get the indexes of those indexes (therefore, temp indexes) that have a high value\n",
    "            fwd_high_idxs_temp = np.argwhere(code_activity[fwd_idxs_all] > metric_kwargs['min_activity_value']).flatten()\n",
    "            # and go back to getting the original index value from those temp indexes\n",
    "            fwd_high_idxs = fwd_idxs_all[fwd_high_idxs_temp]\n",
    "\n",
    "            # check that our list of high indexes going forward contains all high values. if not, we skip this chain\n",
    "            if num_high == len(fwd_high_idxs):\n",
    "                print(i,j)\n",
    "                # spread score based on distance going forward\n",
    "                dist_from_perf_spread = np.abs(spread - num_high)\n",
    "                print('dist_from_perf_spread: ', dist_from_perf_spread)\n",
    "                top = exponential(dist_from_perf_spread, rate=metric_kwargs['spread_penalty_rate'], init_val=1)\n",
    "                bottom = 1 + (metric_kwargs['weight_diff_from_desired']  * np.abs(metric_kwargs['num_desired_high'] - num_high))\n",
    "                spread_score = top / bottom\n",
    "                print('spread_score: ', spread_score)\n",
    "\n",
    "                # kendall score based on chain going forward - since clockwise only, need to normalize kendall to [0,1]\n",
    "                kendall = (kendalltau(np.roll(code_activity, i), ideal).statistic + 1) / 2\n",
    "                print('kendall: ', kendall)\n",
    "                weighted_tau = (weightedtau(np.roll(code_activity, i), ideal, rank=False, weigher=lambda x: int(x < np.finfo(np.float64).eps), additive=True).statistic + 1) / 2\n",
    "                print('weighted tau: ', weighted_tau)\n",
    "                spearman = (spearmanr(np.roll(code_activity, i), ideal).statistic + 1) / 2\n",
    "                print('spearman: ', spearman)\n",
    "\n",
    "                # weighted average of the two scores\n",
    "                scores[i][j] = (metric_kwargs['theta'] * spread_score) + ((1 - metric_kwargs['theta']) * kendall)\n",
    "    \n",
    "    i, j = np.unravel_index(np.argmax(scores), shape=(n,n))\n",
    "    max_score = scores[i][j]\n",
    "\n",
    "    return max_score\n"
   ]
  },
  {
   "cell_type": "code",
   "execution_count": 299,
   "metadata": {},
   "outputs": [],
   "source": [
    "spread_penalty_rate = -0.8\n",
    "weight_diff_from_desired = 0.2\n",
    "theta = 0.0\n",
    "\n",
    "num_desired_high = 9"
   ]
  },
  {
   "cell_type": "code",
   "execution_count": 300,
   "metadata": {},
   "outputs": [
    {
     "name": "stdout",
     "output_type": "stream",
     "text": [
      "WEIGHTED TAU: 0.7904761904761906 SCORE:  0.0001565615498209177 ROLL:  24\n",
      "-----------------------------\n"
     ]
    },
    {
     "data": {
      "text/plain": [
       "<matplotlib.image.AxesImage at 0x1d0463a27a0>"
      ]
     },
     "execution_count": 300,
     "metadata": {},
     "output_type": "execute_result"
    },
    {
     "data": {
      "image/png": "[encoded data removed]",
      "text/plain": [
       "<Figure size 1600x200 with 1 Axes>"
      ]
     },
     "metadata": {},
     "output_type": "display_data"
    }
   ],
   "source": [
    "num_high = num_desired_high\n",
    "\n",
    "# c = np.concatenate((np.linspace(1, 0.2, num_high-2), np.zeros(7), [0.612], np.zeros(10), [0.412], np.zeros(10)))\n",
    "c = np.roll(bimodal_exponential_noise(num_low=noise_num_low, num_high=noise_num_high, noise_rate_low=noise_rate_low, noise_rate_high=noise_rate_high, shuffle=False), np.random.randint(0,ring_neurons))\n",
    "c = np.where(c >= min_activity_value, c, 0.0)\n",
    "ideal = np.arange(ring_neurons, 0, -1)\n",
    "high_idxs = np.argwhere(c >= min_activity_value).flatten()\n",
    "wtaus = []\n",
    "scores = []\n",
    "for i in range(ring_neurons):\n",
    "    ideal_rolled = np.roll(ideal, i)\n",
    "    w = (weightedtau(c, ideal_rolled, rank=False, weigher=lambda x: 1 if x in high_idxs else 0, additive=True).statistic + 1) / 2\n",
    "    wtaus += [w]\n",
    "    scores += [sigmoid(w, beta=80, mu=0.9)]\n",
    "\n",
    "# print(c)\n",
    "# print(ideal)\n",
    "# ideal_ranks = np.where(c < min_activity_value, 1, 0)\n",
    "# print(ideal_ranks)\n",
    "\n",
    "print('WEIGHTED TAU:', np.max(wtaus), 'SCORE: ', np.max(scores), 'ROLL: ', np.argmax(scores))\n",
    "print('-----------------------------')\n",
    "# # c = bimodal_exponential_noise(27,9,6)\n",
    "# print('score', clockwise_mono_spread_metric(c, \n",
    "#                 min_activity_value=min_activity_value,\n",
    "#                 spread_penalty_rate=spread_penalty_rate,\n",
    "#                 weight_diff_from_desired=weight_diff_from_desired,\n",
    "#                 theta=theta,\n",
    "#                 num_desired_high=num_desired_high))\n",
    "\n",
    "\n",
    "plt.matshow(c.reshape(1,len(c)), vmin=0.2, vmax=1)\n"
   ]
  },
  {
   "cell_type": "code",
   "execution_count": 301,
   "metadata": {},
   "outputs": [
    {
     "data": {
      "text/plain": [
       "array([0.        , 0.        , 0.25018637, 0.        , 0.        ,\n",
       "       0.        , 0.        , 0.        , 0.        , 0.        ,\n",
       "       0.        , 0.        , 0.        , 0.        , 0.        ,\n",
       "       0.        , 0.34894105, 0.        , 0.        , 0.        ,\n",
       "       0.2060287 , 0.        , 0.        , 0.        , 0.8240587 ,\n",
       "       0.95884115, 0.76590299, 0.76663519, 0.74297185, 0.86751695,\n",
       "       0.97894678, 0.90498305, 0.85662915, 0.        , 0.        ,\n",
       "       0.        ])"
      ]
     },
     "execution_count": 301,
     "metadata": {},
     "output_type": "execute_result"
    }
   ],
   "source": [
    "c"
   ]
  },
  {
   "cell_type": "code",
   "execution_count": 302,
   "metadata": {},
   "outputs": [
    {
     "data": {
      "image/png": "[encoded data removed]",
      "text/plain": [
       "<Figure size 1600x200 with 1 Axes>"
      ]
     },
     "metadata": {},
     "output_type": "display_data"
    }
   ],
   "source": [
    "n = 36\n",
    "delta_angle = 360 / n\n",
    "num_high_desired = 8\n",
    "min_activity = 0.2\n",
    "\n",
    "# c = bimodal_exponential_noise(n-num_high_desired, num_high_desired, 30)\n",
    "# c = np.where(c > min_activity, c, 0)\n",
    "\n",
    "c = np.concatenate((np.zeros(14),[0.932] , np.zeros(14),  np.linspace(1,0.6,7)))\n",
    "r = np.random.randint(0, n)\n",
    "c = np.roll(c, r)\n",
    "assert len(c) == n, f'c is length {len(c)}'\n",
    "\n",
    "active_idxs = np.argwhere(c > min_activity).flatten()\n",
    "num_high = len(active_idxs)\n",
    "activity_order = np.flip(np.argsort(c[active_idxs])) # decreasing order, because highest activity fires first\n",
    "effector_order = active_idxs[activity_order]\n",
    "\n",
    "init_effector = effector_order[0]\n",
    "init_angle = init_effector * delta_angle\n",
    "\n",
    "# check if active zone wraps around past 0 deg. if so, break up chain into 2 parts before combining\n",
    "if init_angle + (num_high * delta_angle) > 350:\n",
    "    # get how many steps in 1st part of chain\n",
    "    steps_from_init_to_0 = (360 - init_angle) / delta_angle\n",
    "    # get how many steps in 2nd part of chain\n",
    "    steps_from_0_to_end = num_high - steps_from_init_to_0\n",
    "    # then combine the two parts\n",
    "    ideal_angles = np.concatenate((np.arange(init_angle, 360, step=delta_angle), \n",
    "                                   np.arange(0, (steps_from_0_to_end * delta_angle), step=delta_angle)))\n",
    "# else, active zone doesn't wrap around\n",
    "else:\n",
    "    ideal_angles = np.arange(init_angle, (init_angle + (num_high * delta_angle)), step=delta_angle)\n",
    "\n",
    "effector_angles = effector_order * delta_angle\n",
    "devs = effector_angles - ideal_angles\n",
    "\n",
    "if ((np.abs(devs) > 20)).any(): score = 0.0\n",
    "else:\n",
    "    score = 1.0\n",
    "    score -= np.count_nonzero(np.abs(devs)==10) * 0.3\n",
    "    score -= np.count_nonzero(np.abs(devs)==20) * 0.6\n",
    "    score = np.clip(score, 0, 1)\n",
    "\n",
    "# penalty_dict = {0: 0.0, 10: -0.3, 20: -0.6} | {k: -1.0 for k in range(30, 360, 10)} | {k: -1.0 for k in range(0, -360, -10)}\n",
    "# print(devs)\n",
    "# dev_scores = np.prod(np.clip(2 - np.exp(0.3*((devs/10)**2)), 0, 1))\n",
    "plt.matshow(c.reshape(1,-1))\n",
    "plt.title(f'{effector_order}')\n",
    "plt.xlabel(f'{devs} --> {score}')\n",
    "plt.show()"
   ]
  },
  {
   "cell_type": "code",
   "execution_count": 303,
   "metadata": {},
   "outputs": [],
   "source": [
    "    def show_map_results(crn, filename, durations: float, t_max: int, max_t_steps: int, plot_results: bool, **metric_kwargs) -> None:\n",
    "        '''\n",
    "        Saves the outputted drawing from each map neuron in one overall figure.\n",
    "\n",
    "        :param filename str: the filename of the outputted plot\n",
    "        :param durations float: the durations inputted into the code layer (this is temporary until duration layer is implemented)\n",
    "        :param t_max int: the maximum time to integrate each iteration over\n",
    "        :param t_steps int: the number of timesteps to integrate over from [0, t_max]\n",
    "\n",
    "        :returns: None\n",
    "        '''\n",
    "        print('Saving Map Results Plot')\n",
    "        map_size = crn.map_layer.d1 * crn.map_layer.d2\n",
    "        fig, axs = plt.subplots(crn.map_layer.d1, crn.map_layer.d2,\n",
    "                                figsize=(crn.map_layer.d1,crn.map_layer.d2), sharex=True, sharey=True)\n",
    "\n",
    "        activity_matrix = np.zeros((crn.map_layer.d1, crn.map_layer.d2))\n",
    "        for i in tqdm(range(map_size)):\n",
    "            (r, c) = crn.map_layer.convert_to_coord(i)\n",
    "            activity_matrix[r, c] = 1.0\n",
    "            code_input = crn.map_layer.weights_to_code_from_map @ activity_matrix.reshape(map_size, 1)\n",
    "\n",
    "            # top_idxs = np.argsort(code_input.flatten())[-metric_kwargs['num_desired_high']:]\n",
    "            # code_output = np.zeros((crn.code_layer.num_code_units, 1))\n",
    "            # code_output[top_idxs] = code_input[top_idxs]\n",
    "            code_output = np.where(code_input >= metric_kwargs['min_activity_value'], code_input, 0.0)\n",
    "\n",
    "            # determine output of code layer (input into ring layer)\n",
    "            ring_input = crn.code_layer.weights_to_ring_from_code @ code_output\n",
    "\n",
    "            # determine activity of duration layer\n",
    "            # TODO: right now, this is just a constant\n",
    "            dur_output = crn.duration_layer.activate(durations)\n",
    "\n",
    "            # integrate ring layer model over time\n",
    "            v_series, z_series, u_series, I_prime_series = crn.ring_layer.activate(ring_input, dur_output, t_max=t_max, t_steps=max_t_steps)\n",
    "\n",
    "            # limit t_steps to end of integration\n",
    "            t_steps = z_series.shape[1]\n",
    "\n",
    "            # apply model results to the drawing system\n",
    "            x_series, y_series = crn.ring_layer.create_drawing(z_series, t_steps)\n",
    "\n",
    "            # evaluate drawing\n",
    "            # score, curvatures, intersec_pts, intersec_times = crn.evaluate(x_series, y_series, t_steps=t_steps, **metric_kwargs)\n",
    "            score = crn.eval_code_activity(code_output, **metric_kwargs)\n",
    "            intersec_pts = np.ndarray((0,2))\n",
    "            intersec_times = np.array([])\n",
    "\n",
    "            # determine the most similar neuron to the activity of the code layer\n",
    "            map_winner = crn.map_layer.forward(code_output)\n",
    "            winner_idx = crn.map_layer.convert_to_index(map_winner)\n",
    "\n",
    "            # plot ring layer variables over time\n",
    "            plot_v = v_series if crn.vars_to_plot['v'] else []\n",
    "            plot_u = u_series if crn.vars_to_plot['u'] else []\n",
    "            plot_z = z_series if crn.vars_to_plot['z'] else []\n",
    "            plot_I_prime = I_prime_series if crn.vars_to_plot['I_prime'] else []\n",
    "            if plot_results:\n",
    "                crn.plot_results(xs=x_series, ys=y_series, intersec_pts=intersec_pts,\n",
    "                            ring_inputs=ring_input,\n",
    "                            v=plot_v, u=plot_u, z=plot_z, I_prime=plot_I_prime,\n",
    "                            folder_name=crn.folder_name,\n",
    "                            epoch=filename.split('\\\\')[-1].split('.')[0], iteration=i,\n",
    "                            active_idx=i, winner_idx=winner_idx,\n",
    "                            score=score, plot_gif=False, idx_folders=True)\n",
    "                                            \n",
    "            # generate drawing for current neuron\n",
    "            crn.plot_final_doodle(ax=axs[r][c], xs=x_series, ys=y_series, intersec_pts=intersec_pts, individualize_plot=False)\n",
    "            axs[r][c].set_xlim([-100,100])\n",
    "            axs[r][c].set_ylim([-100,100])\n",
    "            axs[r][c].set_xlabel(f'{np.round(score,3)}')\n",
    "            axs[r][c].set_box_aspect(1)\n",
    "\n",
    "            # reset active neuron to inactive\n",
    "            activity_matrix[r, c] = 0.0\n",
    "\n",
    "        plt.tight_layout()\n",
    "        fig.savefig(filename)\n",
    "        plt.close(fig)\n"
   ]
  },
  {
   "cell_type": "code",
   "execution_count": 304,
   "metadata": {},
   "outputs": [
    {
     "name": "stdout",
     "output_type": "stream",
     "text": [
      "ID string: 2024-03-16 153711384091\n"
     ]
    },
    {
     "ename": "KeyError",
     "evalue": "'noise_rate_low'",
     "output_type": "error",
     "traceback": [
      "\u001b[1;31m---------------------------------------------------------------------------\u001b[0m",
      "\u001b[1;31mKeyError\u001b[0m                                  Traceback (most recent call last)",
      "Cell \u001b[1;32mIn[304], line 1\u001b[0m\n\u001b[1;32m----> 1\u001b[0m crn \u001b[38;5;241m=\u001b[39m \u001b[43mCodeRingNetwork\u001b[49m\u001b[43m(\u001b[49m\u001b[43mnum_ring_units\u001b[49m\u001b[38;5;241;43m=\u001b[39;49m\u001b[38;5;241;43m36\u001b[39;49m\u001b[43m,\u001b[49m\u001b[43m \u001b[49m\u001b[43mnum_code_units\u001b[49m\u001b[38;5;241;43m=\u001b[39;49m\u001b[38;5;241;43m36\u001b[39;49m\u001b[43m,\u001b[49m\u001b[43m \u001b[49m\u001b[43mcode_factor\u001b[49m\u001b[38;5;241;43m=\u001b[39;49m\u001b[38;5;241;43m1\u001b[39;49m\u001b[43m,\u001b[49m\u001b[43m \u001b[49m\u001b[43mnum_dur_units\u001b[49m\u001b[38;5;241;43m=\u001b[39;49m\u001b[38;5;241;43m36\u001b[39;49m\u001b[43m,\u001b[49m\n\u001b[0;32m      2\u001b[0m \u001b[43m                 \u001b[49m\u001b[43mmap_d1\u001b[49m\u001b[38;5;241;43m=\u001b[39;49m\u001b[38;5;241;43m12\u001b[39;49m\u001b[43m,\u001b[49m\u001b[43m \u001b[49m\u001b[43mmap_d2\u001b[49m\u001b[38;5;241;43m=\u001b[39;49m\u001b[38;5;241;43m12\u001b[39;49m\u001b[43m,\u001b[49m\u001b[43m \u001b[49m\u001b[43mcode_ring_spread\u001b[49m\u001b[38;5;241;43m=\u001b[39;49m\u001b[38;5;241;43m0.02\u001b[39;49m\u001b[43m,\u001b[49m\n\u001b[0;32m      3\u001b[0m \u001b[43m                 \u001b[49m\u001b[43mnoise_rate\u001b[49m\u001b[38;5;241;43m=\u001b[39;49m\u001b[38;5;241;43m8\u001b[39;49m\u001b[43m,\u001b[49m\u001b[43m \u001b[49m\u001b[43mnoise_num_high\u001b[49m\u001b[38;5;241;43m=\u001b[39;49m\u001b[38;5;241;43m8\u001b[39;49m\u001b[43m)\u001b[49m\n\u001b[0;32m      4\u001b[0m crn\u001b[38;5;241m.\u001b[39mmap_layer\u001b[38;5;241m.\u001b[39mweights_to_code_from_map \u001b[38;5;241m=\u001b[39m crn\u001b[38;5;241m.\u001b[39mload_model_params(\u001b[38;5;124m'\u001b[39m\u001b[38;5;124mC:\u001b[39m\u001b[38;5;130;01m\\\\\u001b[39;00m\u001b[38;5;124mUsers\u001b[39m\u001b[38;5;130;01m\\\\\u001b[39;00m\u001b[38;5;124mRobbie\u001b[39m\u001b[38;5;130;01m\\\\\u001b[39;00m\u001b[38;5;124mDocuments\u001b[39m\u001b[38;5;130;01m\\\\\u001b[39;00m\u001b[38;5;124mDocuments\u001b[39m\u001b[38;5;130;01m\\\\\u001b[39;00m\u001b[38;5;124mResearch\u001b[39m\u001b[38;5;130;01m\\\\\u001b[39;00m\u001b[38;5;124mCode_Ring_Network\u001b[39m\u001b[38;5;130;01m\\\\\u001b[39;00m\u001b[38;5;124mCode-Ring-Network\u001b[39m\u001b[38;5;130;01m\\\\\u001b[39;00m\u001b[38;5;124moutput\u001b[39m\u001b[38;5;130;01m\\\\\u001b[39;00m\u001b[38;5;124m2024-03-07 205631235498\u001b[39m\u001b[38;5;130;01m\\\\\u001b[39;00m\u001b[38;5;124mweights_2024-03-07 205631235498_theta0p25.xlsx\u001b[39m\u001b[38;5;124m'\u001b[39m)\n\u001b[0;32m      5\u001b[0m crn\u001b[38;5;241m.\u001b[39mmap_layer\u001b[38;5;241m.\u001b[39mweights_to_map_from_code \u001b[38;5;241m=\u001b[39m crn\u001b[38;5;241m.\u001b[39mmap_layer\u001b[38;5;241m.\u001b[39mweights_to_code_from_map\u001b[38;5;241m.\u001b[39mT\n",
      "File \u001b[1;32mc:\\Users\\Robbie\\Documents\\Documents\\Research\\Code_Ring_Network\\Code-Ring-Network\\Code_Ring_Network.py:61\u001b[0m, in \u001b[0;36mCodeRingNetwork.__init__\u001b[1;34m(self, num_ring_units, num_code_units, code_factor, num_dur_units, map_d1, map_d2, **init_kwargs)\u001b[0m\n\u001b[0;32m     58\u001b[0m \u001b[38;5;28mself\u001b[39m\u001b[38;5;241m.\u001b[39mvars_to_plot \u001b[38;5;241m=\u001b[39m {\u001b[38;5;124m'\u001b[39m\u001b[38;5;124mz\u001b[39m\u001b[38;5;124m'\u001b[39m: \u001b[38;5;28;01mTrue\u001b[39;00m, \u001b[38;5;124m'\u001b[39m\u001b[38;5;124mv\u001b[39m\u001b[38;5;124m'\u001b[39m: \u001b[38;5;28;01mFalse\u001b[39;00m, \u001b[38;5;124m'\u001b[39m\u001b[38;5;124mu\u001b[39m\u001b[38;5;124m'\u001b[39m: \u001b[38;5;28;01mFalse\u001b[39;00m, \u001b[38;5;124m'\u001b[39m\u001b[38;5;124mI_prime\u001b[39m\u001b[38;5;124m'\u001b[39m: \u001b[38;5;28;01mFalse\u001b[39;00m}\n\u001b[0;32m     59\u001b[0m \u001b[38;5;28mself\u001b[39m\u001b[38;5;241m.\u001b[39mCOLOR_RANGE \u001b[38;5;241m=\u001b[39m get_color_range(num_ring_units, map_name\u001b[38;5;241m=\u001b[39m\u001b[38;5;124m'\u001b[39m\u001b[38;5;124mhsv\u001b[39m\u001b[38;5;124m'\u001b[39m)\n\u001b[1;32m---> 61\u001b[0m \u001b[38;5;28mself\u001b[39m\u001b[38;5;241m.\u001b[39mnoise_rate_low \u001b[38;5;241m=\u001b[39m \u001b[43minit_kwargs\u001b[49m\u001b[43m[\u001b[49m\u001b[38;5;124;43m'\u001b[39;49m\u001b[38;5;124;43mnoise_rate_low\u001b[39;49m\u001b[38;5;124;43m'\u001b[39;49m\u001b[43m]\u001b[49m\n\u001b[0;32m     62\u001b[0m \u001b[38;5;28mself\u001b[39m\u001b[38;5;241m.\u001b[39mnoise_num_high \u001b[38;5;241m=\u001b[39m init_kwargs[\u001b[38;5;124m'\u001b[39m\u001b[38;5;124mnoise_num_high\u001b[39m\u001b[38;5;124m'\u001b[39m]\n\u001b[0;32m     64\u001b[0m \u001b[38;5;66;03m# layer initalizations\u001b[39;00m\n",
      "\u001b[1;31mKeyError\u001b[0m: 'noise_rate_low'"
     ]
    }
   ],
   "source": [
    "crn = CodeRingNetwork(num_ring_units=36, num_code_units=36, code_factor=1, num_dur_units=36,\n",
    "                 map_d1=12, map_d2=12, code_ring_spread=0.02,\n",
    "                 noise_rate=8, noise_num_high=8)\n",
    "crn.map_layer.weights_to_code_from_map = crn.load_model_params('C:\\\\Users\\\\Robbie\\\\Documents\\\\Documents\\\\Research\\\\Code_Ring_Network\\\\Code-Ring-Network\\\\output\\\\2024-03-07 205631235498\\\\weights_2024-03-07 205631235498_theta0p25.xlsx')\n",
    "crn.map_layer.weights_to_map_from_code = crn.map_layer.weights_to_code_from_map.T\n",
    "\n",
    "min_activity_value = 0.05\n",
    "spread_penalty_rate = -0.05\n",
    "weight_diff_from_desired = 0.2\n",
    "num_desired_high = 8\n",
    "theta = 0.25\n",
    "\n",
    "show_map_results(crn, 'results from full code activity trial', 0.2,70,700,False,\n",
    "                    min_activity_value=min_activity_value,\n",
    "                    spread_penalty_rate=spread_penalty_rate,\n",
    "                    weight_diff_from_desired=weight_diff_from_desired,\n",
    "                    theta=theta,\n",
    "                    num_desired_high=num_desired_high)\n"
   ]
  }
 ],
 "metadata": {
  "kernelspec": {
   "display_name": "Code_Ring_venv",
   "language": "python",
   "name": "python3"
  },
  "language_info": {
   "codemirror_mode": {
    "name": "ipython",
    "version": 3
   },
   "file_extension": ".py",
   "mimetype": "text/x-python",
   "name": "python",
   "nbconvert_exporter": "python",
   "pygments_lexer": "ipython3",
   "version": "3.10.0rc1"
  }
 },
 "nbformat": 4,
 "nbformat_minor": 2
}
