{
 "cells": [
  {
   "cell_type": "code",
   "execution_count": 2,
   "metadata": {},
   "outputs": [],
   "source": [
    "import numpy as np\n",
    "import matplotlib.pyplot as plt\n",
    "\n",
    "from Code_Ring_Network import CodeRingNetwork"
   ]
  },
  {
   "cell_type": "code",
   "execution_count": 13,
   "metadata": {},
   "outputs": [
    {
     "data": {
      "text/plain": [
       "<matplotlib.colorbar.Colorbar at 0x2124f092450>"
      ]
     },
     "execution_count": 13,
     "metadata": {},
     "output_type": "execute_result"
    }
   ],
   "source": [
    "# Specificity Development\n",
    "w_mc = np.random.rand(16,12)\n",
    "plt.matshow(w_mc)\n",
    "plt.colorbar()\n",
    "means = np.ndarray(w_mc.shape)\n",
    "for i in range(w_mc.shape[1]):\n",
    "    j = (i+1) % w_mc.shape[1]\n",
    "    means[:,i] = (w_mc[:, i] + w_mc[:, j]) / 2\n",
    "w_mc = np.repeat(w_mc, 2, axis=1)\n",
    "\n",
    "w_mc[:, 1::2] = means\n",
    "plt.matshow(w_mc)\n",
    "plt.colorbar()\n",
    "\n",
    "d = int(np.sqrt(w_mc.shape[0]))\n",
    "w_mc = w_mc.reshape((d, d, w_mc.shape[-1]))\n",
    "w_mc = np.repeat(w_mc, 2, axis=0)\n",
    "w_mc = np.repeat(w_mc, 2, axis=1)\n",
    "w_mc = w_mc + ((np.random.rand(*w_mc.shape) * 0.1) - 0.05)\n",
    "plt.matshow(w_mc[:,:,0])\n",
    "plt.colorbar()\n",
    "plt.matshow(w_mc.reshape(-1, w_mc.shape[-1]))\n",
    "plt.colorbar()\n",
    "# plt.matshow(w_mc.reshape(144*4,36*2).T + ((np.random.rand(144*4,36*2).T * 0.1) - 0.1))"
   ]
  },
  {
   "cell_type": "code",
   "execution_count": 14,
   "metadata": {},
   "outputs": [
    {
     "data": {
      "text/plain": [
       "<matplotlib.colorbar.Colorbar at 0x2124f73ffe0>"
      ]
     },
     "execution_count": 14,
     "metadata": {},
     "output_type": "execute_result"
    }
   ],
   "source": [
    "# Redundancy Development\n",
    "w_mc = np.random.rand(16,12)\n",
    "plt.matshow(w_mc)\n",
    "plt.colorbar()\n",
    "\n",
    "w_mc = np.tile(w_mc, 2)\n",
    "plt.matshow(w_mc)\n",
    "plt.colorbar()\n",
    "\n",
    "c = int(w_mc.shape[1] // 2)\n",
    "w_red = np.ndarray((w_mc.shape[0], c, 2))\n",
    "w_red[:,:,0] = w_mc[:, :c]\n",
    "w_red[:,:,1] = w_mc[:, c:]\n",
    "\n",
    "plt.matshow(w_red[:,:,0])\n",
    "plt.colorbar()\n",
    "\n",
    "plt.matshow(w_red[:,:,1])\n",
    "plt.colorbar()"
   ]
  },
  {
   "cell_type": "code",
   "execution_count": 15,
   "metadata": {},
   "outputs": [],
   "source": [
    "from scipy.stats import kendalltau\n",
    "import numpy as np\n",
    "import matplotlib.pyplot as plt\n",
    "\n",
    "from utilities import exponential"
   ]
  },
  {
   "cell_type": "code",
   "execution_count": 16,
   "metadata": {},
   "outputs": [],
   "source": [
    "def code_spread_metric(code_activity, **metric_kwargs):\n",
    "    n = 36\n",
    "    if code_activity.shape == (n,1):\n",
    "        code_activity = code_activity.flatten()\n",
    "    num_high = np.count_nonzero(code_activity > 0.5)\n",
    "    high_idxs = np.argwhere(code_activity > 0.5).flatten()\n",
    "    spreads = np.zeros((n, n, 2)) + 9999\n",
    "    for i in high_idxs:\n",
    "        for j in high_idxs:\n",
    "            if num_high == np.count_nonzero(code_activity[i:j+1] > 0.5):\n",
    "                spreads[i][j][0] = np.abs(i - j) + 1\n",
    "            if num_high == np.count_nonzero(np.concatenate((code_activity[0:i+1], code_activity[j:n])) > 0.5):\n",
    "                spreads[i][j][1] = n - np.abs(i - j) + 1\n",
    "    min_spread = np.min(spreads)\n",
    "    top = exponential(min_spread, rate=-0.05, center=num_high, init_val=1)\n",
    "    bottom = 1 + (0.2  * np.abs(num_high - (1*n//4)))\n",
    "    return top / bottom"
   ]
  },
  {
   "cell_type": "code",
   "execution_count": 17,
   "metadata": {},
   "outputs": [
    {
     "name": "stdout",
     "output_type": "stream",
     "text": [
      "[0.01591844 0.92145515 0.1400118  0.18791357 0.07939174 0.81903644\n",
      " 0.04063173 0.27006131 0.98682106 0.93233561 0.05027459 0.69968791\n",
      " 0.01395029 0.00998255 0.02313115 0.14665214 0.03831649 0.09364141\n",
      " 0.12729851 0.00370812 0.08631523 0.12612955 0.2464463  0.83956042\n",
      " 0.31660223 0.01787498 0.08409228 0.9576185  0.9112309  0.21865069\n",
      " 0.17013346 0.04476276 0.02441873 0.87774952 0.99242519 0.24079435]\n",
      "[0.92145515 0.81903644 0.98682106 0.93233561 0.83956042 0.9576185\n",
      " 0.9112309  0.87774952 0.99242519]\n",
      "Spread score: 0.3936387939508456\n",
      "Kendall: 0.16666666666666666\n"
     ]
    },
    {
     "ename": "NameError",
     "evalue": "name 'theta' is not defined",
     "output_type": "error",
     "traceback": [
      "\u001b[1;31m---------------------------------------------------------------------------\u001b[0m",
      "\u001b[1;31mNameError\u001b[0m                                 Traceback (most recent call last)",
      "Cell \u001b[1;32mIn[17], line 25\u001b[0m\n\u001b[0;32m     21\u001b[0m \u001b[38;5;28mprint\u001b[39m(\u001b[38;5;124mf\u001b[39m\u001b[38;5;124m'\u001b[39m\u001b[38;5;124mSpread score: \u001b[39m\u001b[38;5;132;01m{\u001b[39;00mspread_score\u001b[38;5;132;01m}\u001b[39;00m\u001b[38;5;124m'\u001b[39m)\n\u001b[0;32m     23\u001b[0m \u001b[38;5;28mprint\u001b[39m(\u001b[38;5;124mf\u001b[39m\u001b[38;5;124m'\u001b[39m\u001b[38;5;124mKendall: \u001b[39m\u001b[38;5;132;01m{\u001b[39;00mkendall\u001b[38;5;132;01m}\u001b[39;00m\u001b[38;5;124m'\u001b[39m)\n\u001b[1;32m---> 25\u001b[0m \u001b[38;5;28mprint\u001b[39m(\u001b[38;5;124mf\u001b[39m\u001b[38;5;124m'\u001b[39m\u001b[38;5;124mTotal score: \u001b[39m\u001b[38;5;132;01m{\u001b[39;00m(\u001b[43mtheta\u001b[49m\u001b[38;5;250m \u001b[39m\u001b[38;5;241m*\u001b[39m\u001b[38;5;250m \u001b[39mspread_score)\u001b[38;5;250m \u001b[39m\u001b[38;5;241m+\u001b[39m\u001b[38;5;250m \u001b[39m(kendall\u001b[38;5;250m \u001b[39m\u001b[38;5;241m*\u001b[39m\u001b[38;5;250m \u001b[39m(\u001b[38;5;241m1\u001b[39m\u001b[38;5;250m \u001b[39m\u001b[38;5;241m-\u001b[39m\u001b[38;5;250m \u001b[39mtheta))\u001b[38;5;132;01m}\u001b[39;00m\u001b[38;5;124m'\u001b[39m)\n",
      "\u001b[1;31mNameError\u001b[0m: name 'theta' is not defined"
     ]
    }
   ],
   "source": [
    "n = 36\n",
    "ideal = np.linspace(0.5, 1, int(n // 4))\n",
    "\n",
    "# bimodal noise, so 3/4 of values are low, 1/4 are high\n",
    "noise_rate = 8\n",
    "noise1 = np.random.exponential(1 / noise_rate, 3*n//4)\n",
    "noise2 = 1 - np.random.exponential(1 / noise_rate, n//4)\n",
    "noise = np.concatenate((noise1, noise2))\n",
    "np.random.shuffle(noise)\n",
    "# code input is just noise during pretraining\n",
    "c = np.clip(noise, 0, 1)\n",
    "\n",
    "spread_score = code_spread_metric(c)\n",
    "\n",
    "top_idxs = np.sort(np.argsort(c)[-n//4:])\n",
    "kendall = np.abs(kendalltau(c[top_idxs], ideal).statistic)\n",
    "\n",
    "print(c)\n",
    "print(c[top_idxs])\n",
    "\n",
    "print(f'Spread score: {spread_score}')\n",
    "\n",
    "print(f'Kendall: {kendall}')\n",
    "\n",
    "print(f'Total score: {(theta * spread_score) + (kendall * (1 - theta))}')"
   ]
  },
  {
   "cell_type": "code",
   "execution_count": 17,
   "metadata": {},
   "outputs": [
    {
     "name": "stdout",
     "output_type": "stream",
     "text": [
      "ID string: 2024-03-03 164233434479\n"
     ]
    }
   ],
   "source": [
    "import matplotlib\n",
    "matplotlib.use('TkAgg')\n",
    "crn = CodeRingNetwork(36,36,1,36,8,8,0,1,0.02)\n",
    "map_size = int(crn.map_layer.d1*crn.map_layer.d2)\n",
    "durations=0.2\n",
    "t_max=70\n",
    "t_steps=700\n",
    "f,axs = plt.subplots(crn.map_layer.d1, crn.map_layer.d2, figsize=(16,8))\n",
    "for i in range(map_size):\n",
    "    (r,c) = crn.map_layer.convert_to_coord(i)\n",
    "\n",
    "    noise_rate = 8\n",
    "    noise1 = np.random.exponential(1 / noise_rate, 3*crn.code_layer.num_code_units//4)\n",
    "    noise2 = 1 - np.random.exponential(1 / noise_rate, crn.code_layer.num_code_units//4)\n",
    "    noise = np.concatenate((noise1, noise2))\n",
    "    # np.random.shuffle(noise)\n",
    "\n",
    "    code_output = np.clip(noise, 0, 1).reshape(crn.code_layer.num_code_units, 1)\n",
    "    code_output = code_output\n",
    "\n",
    "    # determine output of code layer (input into ring layer)\n",
    "    ring_input = crn.code_layer.weights_to_ring_from_code @ code_output\n",
    "\n",
    "    # determine activity of duration layer\n",
    "    # TODO: right now, this is just a constant\n",
    "    dur_output = crn.duration_layer.activate(durations)\n",
    "\n",
    "    # integrate ring layer model over time\n",
    "    v_series, z_series, u_series, I_prime_series = crn.ring_layer.activate(ring_input, dur_output, t_max=t_max, t_steps=t_steps)\n",
    "    \n",
    "    # apply model results to the drawing system\n",
    "    x_series, y_series = crn.ring_layer.create_drawing(z_series, t_steps)\n",
    "\n",
    "    # evaluate drawing\n",
    "    # score, curvatures, intersec_pts, intersec_times = crn.evaluate(x_series, y_series, t_steps=t_steps)\n",
    "    score = crn.eval_kendall_spread(code_activity=code_output, theta=0.8)\n",
    "    # print(score)\n",
    "                                    \n",
    "    # generate drawing for current neuron\n",
    "    crn.plot_final_doodle(ax=axs[r][c], xs=x_series, ys=y_series, intersec_pts=np.array([]), individualize_plot=False)\n",
    "    axs[r][c].set_xlim([-50,50])\n",
    "    axs[r][c].set_ylim([-50,50])\n",
    "    axs[r][c].set_xlabel(f'{np.round(score,3)}')\n",
    "    axs[r][c].set_box_aspect(1)\n",
    "\n",
    "plt.tight_layout()\n",
    "plt.show()"
   ]
  }
 ],
 "metadata": {
  "kernelspec": {
   "display_name": "Code_Ring_venv",
   "language": "python",
   "name": "python3"
  },
  "language_info": {
   "codemirror_mode": {
    "name": "ipython",
    "version": 3
   },
   "file_extension": ".py",
   "mimetype": "text/x-python",
   "name": "python",
   "nbconvert_exporter": "python",
   "pygments_lexer": "ipython3",
   "version": "3.12.1"
  }
 },
 "nbformat": 4,
 "nbformat_minor": 2
}
