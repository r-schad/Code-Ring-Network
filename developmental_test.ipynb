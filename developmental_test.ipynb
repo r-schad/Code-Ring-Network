{
 "cells": [
  {
   "cell_type": "code",
   "execution_count": 2,
   "metadata": {},
   "outputs": [],
   "source": [
    "import numpy as np\n",
    "import matplotlib.pyplot as plt\n",
    "\n",
    "from Code_Ring_Network import CodeRingNetwork"
   ]
  },
  {
   "cell_type": "code",
   "execution_count": 13,
   "metadata": {},
   "outputs": [
    {
     "data": {
      "text/plain": [
       "<matplotlib.colorbar.Colorbar at 0x2124f092450>"
      ]
     },
     "execution_count": 13,
     "metadata": {},
     "output_type": "execute_result"
    }
   ],
   "source": [
    "# Specificity Development\n",
    "w_mc = np.random.rand(16,12)\n",
    "plt.matshow(w_mc)\n",
    "plt.colorbar()\n",
    "means = np.ndarray(w_mc.shape)\n",
    "for i in range(w_mc.shape[1]):\n",
    "    j = (i+1) % w_mc.shape[1]\n",
    "    means[:,i] = (w_mc[:, i] + w_mc[:, j]) / 2\n",
    "w_mc = np.repeat(w_mc, 2, axis=1)\n",
    "\n",
    "w_mc[:, 1::2] = means\n",
    "plt.matshow(w_mc)\n",
    "plt.colorbar()\n",
    "\n",
    "d = int(np.sqrt(w_mc.shape[0]))\n",
    "w_mc = w_mc.reshape((d, d, w_mc.shape[-1]))\n",
    "w_mc = np.repeat(w_mc, 2, axis=0)\n",
    "w_mc = np.repeat(w_mc, 2, axis=1)\n",
    "w_mc = w_mc + ((np.random.rand(*w_mc.shape) * 0.1) - 0.05)\n",
    "plt.matshow(w_mc[:,:,0])\n",
    "plt.colorbar()\n",
    "plt.matshow(w_mc.reshape(-1, w_mc.shape[-1]))\n",
    "plt.colorbar()\n",
    "# plt.matshow(w_mc.reshape(144*4,36*2).T + ((np.random.rand(144*4,36*2).T * 0.1) - 0.1))"
   ]
  },
  {
   "cell_type": "code",
   "execution_count": 14,
   "metadata": {},
   "outputs": [
    {
     "data": {
      "text/plain": [
       "<matplotlib.colorbar.Colorbar at 0x2124f73ffe0>"
      ]
     },
     "execution_count": 14,
     "metadata": {},
     "output_type": "execute_result"
    }
   ],
   "source": [
    "# Redundancy Development\n",
    "w_mc = np.random.rand(16,12)\n",
    "plt.matshow(w_mc)\n",
    "plt.colorbar()\n",
    "\n",
    "w_mc = np.tile(w_mc, 2)\n",
    "plt.matshow(w_mc)\n",
    "plt.colorbar()\n",
    "\n",
    "c = int(w_mc.shape[1] // 2)\n",
    "w_red = np.ndarray((w_mc.shape[0], c, 2))\n",
    "w_red[:,:,0] = w_mc[:, :c]\n",
    "w_red[:,:,1] = w_mc[:, c:]\n",
    "\n",
    "plt.matshow(w_red[:,:,0])\n",
    "plt.colorbar()\n",
    "\n",
    "plt.matshow(w_red[:,:,1])\n",
    "plt.colorbar()"
   ]
  }
 ],
 "metadata": {
  "kernelspec": {
   "display_name": "Code_Ring_venv",
   "language": "python",
   "name": "python3"
  },
  "language_info": {
   "codemirror_mode": {
    "name": "ipython",
    "version": 3
   },
   "file_extension": ".py",
   "mimetype": "text/x-python",
   "name": "python",
   "nbconvert_exporter": "python",
   "pygments_lexer": "ipython3",
   "version": "3.12.1"
  }
 },
 "nbformat": 4,
 "nbformat_minor": 2
}
