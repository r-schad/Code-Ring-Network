{
 "cells": [
  {
   "attachments": {},
   "cell_type": "markdown",
   "metadata": {},
   "source": [
    "# Multiple Ring Neurons Experiment"
   ]
  },
  {
   "attachments": {},
   "cell_type": "markdown",
   "metadata": {},
   "source": [
    "## Imports"
   ]
  },
  {
   "cell_type": "code",
   "execution_count": 90,
   "metadata": {},
   "outputs": [],
   "source": [
    "import numpy as np\n",
    "import pandas as pd\n",
    "from scipy.integrate import solve_ivp\n",
    "from scipy.stats import norm\n",
    "import matplotlib.pyplot as plt\n",
    "import matplotlib.colors as mcolors\n",
    "import imageio\n",
    "from datetime import datetime as dt\n",
    "import os"
   ]
  },
  {
   "cell_type": "code",
   "execution_count": 72,
   "metadata": {},
   "outputs": [],
   "source": [
    "COLORS = mcolors.TABLEAU_COLORS\n",
    "COLOR_NAMES = [k.replace('tab:', '') for k in COLORS.keys()]\n",
    "COLORS = list(COLORS.values())"
   ]
  },
  {
   "cell_type": "markdown",
   "metadata": {},
   "source": [
    "# Utilities"
   ]
  },
  {
   "cell_type": "code",
   "execution_count": 80,
   "metadata": {},
   "outputs": [],
   "source": [
    "def create_frame(ax, xs, ys, pen_label, pen_color, t, detect_intersec, intersec_pts) -> None:\n",
    "    '''\n",
    "    :param xs list: a list of the different x-series of the doodles\n",
    "    :param ys list: a list of the different y-series of the doodles\n",
    "    :param t int: the current timestep in the doodle\n",
    "\n",
    "    TODO file naming\n",
    "    '''\n",
    "    assert len(xs) == len(ys), \"xs and ys shape doesn't match!\"\n",
    "    \n",
    "    ax.plot(xs[:t+1], ys[:t+1], color=pen_color, alpha=0.5, label=pen_label)\n",
    "    ax.scatter(xs[t], ys[t], color=pen_color, alpha=0.8, marker = 'o')\n",
    "\n",
    "    if detect_intersec and t >= 3:\n",
    "        # get point 1 (time t-1) and point 2 (time t) coordinates\n",
    "        x1 = xs[t-1]\n",
    "        x2 = xs[t]\n",
    "        y1 = ys[t-1]\n",
    "        y2 = ys[t]\n",
    "\n",
    "        # get point 3s (times t=0,...,t-3) and point 4s (times t=1,...,t-2) coordinates\n",
    "            # NOTE: we don't include the line segment from time t-2 to time t-1 because that's just going to intersect \n",
    "            # with point 1 because of time t-1\n",
    "        x3s = xs[:t-2]\n",
    "        y3s = ys[:t-2]\n",
    "        x4s = np.roll(xs, -1)[:t-2]\n",
    "        y4s = np.roll(ys, -1)[:t-2]\n",
    "\n",
    "        # find where two line segments intersect (if they do)\n",
    "        # https://en.wikipedia.org/wiki/Line%E2%80%93line_intersection#Given_two_points_on_each_line_segment\n",
    "        numerator_t = ((x1 - x3s) * (y3s - y4s)) - ((y1 - y3s) * (x3s - x4s))\n",
    "        numerator_u = ((x1 - x3s) * (y1 - y2)) - ((y1 - y3s) * (x1 - x2))\n",
    "        denom = ((x1 - x2) * (y3s - y4s)) - ((y1 - y2) * (x3s - x4s))\n",
    "\n",
    "        # (d != 0) & (0 <= n/d <= 1)\n",
    "        intersec_t_idxs = np.nonzero((0. != denom) & (0 <= numerator_t / denom) & (numerator_t / denom <= 1))[0]\n",
    "        intersec_u_idxs = np.nonzero((0. != denom) & (0 <= numerator_u / denom) & (numerator_u / denom <= 1))[0]\n",
    "\n",
    "        # get indexes where both t and u are between 0 and 1\n",
    "        intersec_idxs = np.intersect1d(intersec_t_idxs, intersec_u_idxs)  \n",
    "\n",
    "        intersec_t = numerator_t[intersec_idxs] / denom[intersec_idxs]\n",
    "        \n",
    "        intersec_x = x1 + (intersec_t * (x2 - x1))\n",
    "        intersec_y = y1 + (intersec_t * (y2 - y1))\n",
    "\n",
    "        new_intersec = np.array([intersec_x, intersec_y]).reshape(-1,2)\n",
    "        intersec_pts = np.concatenate((intersec_pts, new_intersec), axis=0)\n",
    "        ax.scatter(intersec_pts[:,0], intersec_pts[:,1], color='red', marker='o')\n",
    "\n",
    "    ax.set_xlim([-2, 2])\n",
    "    ax.set_xlabel('x', fontsize = 14)\n",
    "    ax.set_ylim([-2, 2])\n",
    "    ax.set_ylabel('y', fontsize = 14)\n",
    "    ax.set_title(f'Step {t}', fontsize=14)\n",
    "    ax.legend()\n",
    "\n",
    "    return intersec_pts"
   ]
  },
  {
   "cell_type": "markdown",
   "metadata": {},
   "source": [
    "# Model Definition"
   ]
  },
  {
   "attachments": {},
   "cell_type": "markdown",
   "metadata": {},
   "source": [
    "## Equations"
   ]
  },
  {
   "cell_type": "markdown",
   "metadata": {},
   "source": [
    "### Equations"
   ]
  },
  {
   "cell_type": "markdown",
   "metadata": {},
   "source": [
    "Activation: \n",
    "\n",
    "$\\frac{dv_i}{dt}=\\frac{1}{\\tau}(-\\lambda u_i v_i + I_i' (1 - \\eta \\sum\\limits_{\\substack{j \\in R \\\\ j \\ne i}}z_j));$\n",
    "\n",
    "Input Depletion:\n",
    "\n",
    "$\\frac{dI_i'}{dt} = -\\varphi I_i z_i$\n",
    "\n",
    "Deactivation: \n",
    "\n",
    "$\\frac{du_i}{dt}=-\\rho u_i + \\gamma I_i' \\frac{z_i}{c_i + \\epsilon};$\n",
    "\n",
    "Output: \n",
    "\n",
    "$z_i=f(v_i)=\\frac{1}{1+e^{-\\beta (v_i - \\mu)}};$"
   ]
  },
  {
   "cell_type": "code",
   "execution_count": 75,
   "metadata": {},
   "outputs": [],
   "source": [
    "def sigmoid(v, beta, mu):\n",
    "    return 1 / (1 + (np.e ** ((-1*beta) * (v - mu))))"
   ]
  },
  {
   "cell_type": "markdown",
   "metadata": {},
   "source": [
    "## Neurons"
   ]
  },
  {
   "cell_type": "code",
   "execution_count": 76,
   "metadata": {},
   "outputs": [],
   "source": [
    "NUM_UNITS = 36\n",
    "directions_deg = [i * 360 / NUM_UNITS for i in range(NUM_UNITS)] # define directions_deg so we can use these for easy plotting\n",
    "directions_rad = np.array([np.deg2rad(dir) for dir in directions_deg]) # convert degrees to radians for headings\n",
    "headings = np.array([[np.cos(dir), np.sin(dir)] for dir in directions_rad]) # headings is used for later calculations"
   ]
  },
  {
   "cell_type": "markdown",
   "metadata": {},
   "source": [
    "# Driver Code"
   ]
  },
  {
   "cell_type": "code",
   "execution_count": 81,
   "metadata": {},
   "outputs": [],
   "source": [
    "def doodle(t, state, p):\n",
    "    '''\n",
    "    Because we can't provide a vectorized state (i.e. state can't be 2-d in solve_ivp()),\n",
    "    we hide the two vectors in state, so state is a vector of [v, u], \n",
    "    where v and u are both vectors of length `num_units`.\n",
    "    \n",
    "    Then, we can handle the change in v and change in u separately, \n",
    "    and concat them back together to be returned as the new state.\n",
    "    '''\n",
    "    v = state[0:p['N']]\n",
    "    u = state[p['N']:2*p['N']]\n",
    "    I_prime = state[2*p['N']:]\n",
    "\n",
    "    assert set([v.shape[0], u.shape[0], I_prime.shape[0]]) == set([p['N']]), f\"State's shapes don't match! {v.shape, u.shape, I_prime.shape}\"\n",
    "\n",
    "    z = sigmoid(v, p['beta'], p['mu'])\n",
    "   \n",
    "    # calculate dv/dt, du/dt, DI'/dt\n",
    "    inhibition_vec = 1 - (p['eta'] * np.dot(z, 1 - np.eye(p['N']))) # multiply by the sum of *other* neuron's outputs\n",
    "    dv = (1 / p['tau']) * ((-1 * p['lambda'] * u * v) + (I_prime * inhibition_vec))\n",
    "    du = (-1 * p['rho'] * u) + (p['gamma'] * I_prime * (z) / (p['c'] + p['epsilon']))\n",
    "    dI_prime = -1 * p['phi'] * p['I'] * z\n",
    "    \n",
    "    # join v and u back together to be returned\n",
    "    return np.array((dv, du, dI_prime)).reshape(3*p['N'])"
   ]
  },
  {
   "cell_type": "markdown",
   "metadata": {},
   "source": [
    "### Plot all variables"
   ]
  },
  {
   "cell_type": "code",
   "execution_count": 84,
   "metadata": {},
   "outputs": [
    {
     "name": "stdout",
     "output_type": "stream",
     "text": [
      "Datetime string: 2023-12-01 122856174661\n"
     ]
    }
   ],
   "source": [
    "dt_string = str(dt.now()).replace(':', '').replace('.','')\n",
    "print(f'Datetime string: {dt_string}')\n",
    "if not os.path.isdir('output'): os.mkdir('output')\n",
    "folder_name = f'output\\\\{dt_string}'\n",
    "os.mkdir(folder_name)\n",
    "\n",
    "plot_v = False\n",
    "plot_u = False\n",
    "plot_I_prime = False\n",
    "plot_z = True\n",
    "\n",
    "t_max = 40\n",
    "t_steps = 400\n",
    "t = np.linspace(0, t_max, t_steps)\n",
    "\n",
    "I = np.random.rand(NUM_UNITS)\n",
    "c = np.random.rand(NUM_UNITS)\n",
    "\n",
    "params = {\n",
    "    'N': NUM_UNITS,\n",
    "    'tau': 1.0,\n",
    "    'lambda': 20,\n",
    "    'eta': 1.2,\n",
    "    'I': I,\n",
    "    'rho': 0.1,\n",
    "    'gamma': 0.1,\n",
    "    'c': c,\n",
    "    'epsilon': 0.00001,\n",
    "    'beta': 50.0,\n",
    "    'mu': 0.1,\n",
    "    'phi': 0.5,\n",
    "    'alpha': 0.9\n",
    "}\n",
    "\n",
    "params_df = pd.DataFrame(params, columns=list(params.keys()))\n",
    "\n",
    "v = np.zeros(params['N'])\n",
    "u = np.zeros(params['N'])\n",
    "\n",
    "state = np.array((v, u, I)).reshape(3*params['N'])\n",
    "result = solve_ivp(fun=lambda t, state: doodle(t, state, params), t_span=(min(t), max(t)), t_eval=t, y0=state)\n",
    "v_series = result.y[:params['N'],]\n",
    "z_series = sigmoid(v_series, params['beta'], params['mu'])\n",
    "u_series = result.y[params['N']:2*params['N'],]\n",
    "I_prime_series = result.y[2*params['N']:,]\n",
    "\n",
    "fig, axs = plt.subplots()\n",
    "\n",
    "for i in np.argsort(I):\n",
    "    color = COLORS[i % len(COLORS)]\n",
    "    if plot_v: plt.plot(t, v_series[i], label=f'v_{i}', c=color, linestyle='dashed')\n",
    "    if plot_u: plt.plot(t, u_series[i], label=f'u_{i}', c=color, linestyle='dotted')\n",
    "    if plot_I_prime: plt.plot(t, I_prime_series[i], label=f\"I'_{i}\", c=color, linestyle='dashdot')\n",
    "    if plot_z: plt.plot(t, z_series[i], label=f'z_{i}', c=color, linestyle='solid')    \n",
    "    plt.axhline(y=0.0, c=\"black\", linewidth=0.05)\n",
    "\n",
    "    rank = i\n",
    "    dir = directions_deg[i]\n",
    "    input_val = I[i]\n",
    "    c_val = c[i]\n",
    "    color_name = COLOR_NAMES[i % len(COLORS)]\n",
    "\n",
    "plt.ylim([0, 1])\n",
    "plt.xlabel('t')\n",
    "\n",
    "fig.savefig(f'{folder_name}\\\\plot_{dt_string}')\n",
    "plt.close()\n",
    "\n",
    "# draw output\n",
    "dir_series = z_series.T @ headings # does not include momentum\n",
    "momentum_term = np.roll(dir_series, 1, axis=0) # roll time series forward one step\n",
    "momentum_term[0, :] = np.array([0., 0.]) # set first momentum step to 0\n",
    "\n",
    "alphas = np.cumprod([params['alpha']] * (t_steps - 1))\n",
    "alphas = np.array([0] + list(alphas))\n",
    "\n",
    "# recurrence relation boils down to the following momentum term\n",
    "# convolution(N, M) gives a result of n + m - 1 elements. we only need the first t_steps\n",
    "dir_series_with_momentum_x = (1 - params['alpha']) * (z_series.T @ headings).T[0,:] + (1 - params['alpha']) * np.convolve((z_series.T @ headings).T[0,:], alphas)[:t_steps]\n",
    "dir_series_with_momentum_y = (1 - params['alpha']) * (z_series.T @ headings).T[1,:] + (1 - params['alpha']) * np.convolve((z_series.T @ headings).T[1,:], alphas)[:t_steps]\n",
    "\n",
    "# scale x and y distances by 1/10 to keep drawings on the page\n",
    "xs_with_momentum = (1 / 10) * dir_series_with_momentum_x \n",
    "ys_with_momentum = (1 / 10) * dir_series_with_momentum_y\n",
    "\n",
    "x_series_with_momentum = np.cumsum(xs_with_momentum)\n",
    "y_series_with_momentum = np.cumsum(ys_with_momentum)\n",
    "\n",
    "# create GIF\n",
    "if not os.path.isdir(f'{folder_name}\\\\img'):\n",
    "    os.mkdir(f'{folder_name}\\\\img')\n",
    "\n",
    "frames = []\n",
    "intersections = np.ndarray((0, 2))\n",
    "\n",
    "for t in range(t_steps):\n",
    "    f, axs = plt.subplots() \n",
    "\n",
    "    intersections = create_frame(axs, x_series_with_momentum, y_series_with_momentum, pen_color='black', pen_label='testing', t=t, detect_intersec=True, intersec_pts=intersections)\n",
    "    \n",
    "    f.savefig(f'{folder_name}\\\\img\\\\img_{t}.png')\n",
    "    plt.close()\n",
    "    image = imageio.v2.imread(f'{folder_name}\\\\img\\\\img_{t}.png')\n",
    "    frames.append(image)\n",
    "\n",
    "imageio.mimsave(f\"{folder_name}\\\\GIF_{dt_string}.gif\", frames, duration=t_max)"
   ]
  }
 ],
 "metadata": {
  "kernelspec": {
   "display_name": "Code_Ring_venv",
   "language": "python",
   "name": "python3"
  },
  "language_info": {
   "codemirror_mode": {
    "name": "ipython",
    "version": 3
   },
   "file_extension": ".py",
   "mimetype": "text/x-python",
   "name": "python",
   "nbconvert_exporter": "python",
   "pygments_lexer": "ipython3",
   "version": "3.10.0rc1"
  },
  "orig_nbformat": 4
 },
 "nbformat": 4,
 "nbformat_minor": 2
}
