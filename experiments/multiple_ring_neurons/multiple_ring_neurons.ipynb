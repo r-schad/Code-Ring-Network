{
 "cells": [
  {
   "attachments": {},
   "cell_type": "markdown",
   "metadata": {},
   "source": [
    "# Multiple Ring Neurons Experiment"
   ]
  },
  {
   "attachments": {},
   "cell_type": "markdown",
   "metadata": {},
   "source": [
    "## Imports"
   ]
  },
  {
   "cell_type": "code",
   "execution_count": 1,
   "metadata": {},
   "outputs": [],
   "source": [
    "import numpy as np\n",
    "from scipy.integrate import solve_ivp\n",
    "from scipy.stats import norm\n",
    "import matplotlib.pyplot as plt\n",
    "import matplotlib.colors as mcolors\n",
    "import imageio\n",
    "import datetime as dt\n",
    "import os"
   ]
  },
  {
   "attachments": {},
   "cell_type": "markdown",
   "metadata": {},
   "source": [
    "## Equations"
   ]
  },
  {
   "attachments": {},
   "cell_type": "markdown",
   "metadata": {},
   "source": [
    "### Output Transform Function (Sigmoid)\n",
    "$$z_{r}=f(v_{i})=\\frac{1}{1+e^{-\\beta (v_{i} - \\mu)}}$$\n",
    "$$\\beta = 10; \\mu = 0.2$$"
   ]
  },
  {
   "cell_type": "code",
   "execution_count": 2,
   "metadata": {},
   "outputs": [],
   "source": [
    "def transform(v, beta, mu):\n",
    "    return 1 / (1 + (np.e ** ((-1*beta) * (v - mu))))"
   ]
  },
  {
   "cell_type": "markdown",
   "metadata": {},
   "source": [
    "### New Equations (Option 1)\n",
    "\n",
    "Activation: $\\frac{dv_i}{dt}=\\frac{1}{\\tau}(-\\lambda u_i v_i + I_i - \\gamma \\sum\\limits_{j \\ne i}{z_j});$\n",
    "$\\tau = 1.0; \\lambda=10$\n",
    "\n",
    "Deactivation \n",
    "$\\frac{du_i}{dt}=-\\rho u_i + \\frac{z_i}{c_i};$\n",
    "$\\rho=1.0$\n",
    "\n",
    "Output: $z_i=f(v_i)=\\frac{1}{1+e^{-\\beta (v_i - \\mu)}};$\n",
    "$\\beta = 40; \\mu = 0.1$"
   ]
  },
  {
   "cell_type": "markdown",
   "metadata": {},
   "source": [
    "### New Equations (Option 2)\n",
    "\n",
    "Activation: $\\frac{dv_i}{dt}=\\frac{1}{\\tau}(-\\lambda u_i v_i + \\frac{I_i}{\\gamma \\sum\\limits_{j \\ne i}{z_j}});$\n",
    "$\\tau = 1.0; \\lambda=10$\n",
    "\n",
    "Deactivation \n",
    "$\\frac{du_i}{dt}=-\\rho u_i + \\frac{z_i}{c_i};$\n",
    "$\\rho=1.0$\n",
    "\n",
    "Output: $z_i=f(v_i)=\\frac{1}{1+e^{-\\beta (v_i - \\mu)}};$\n",
    "$\\beta = 40; \\mu = 0.1$"
   ]
  },
  {
   "cell_type": "markdown",
   "metadata": {},
   "source": [
    "### New Equations (Option 3)\n",
    "\n",
    "Activation: $\\frac{dv_i}{dt}=\\frac{1}{\\tau}(-\\lambda u_i v_i + I_i);$\n",
    "$\\tau = 1.0; \\lambda=10$\n",
    "\n",
    "Deactivation \n",
    "$\\frac{du_i}{dt}=-\\rho u_i + \\frac{z_i}{c_i} + \\gamma \\sum\\limits_{j \\ne i}{z_j};$\n",
    "$\\rho=1.0$\n",
    "\n",
    "Output: $z_i=f(v_i)=\\frac{1}{1+e^{-\\beta (v_i - \\mu)}};$\n",
    "$\\beta = 40; \\mu = 0.1$"
   ]
  },
  {
   "attachments": {},
   "cell_type": "markdown",
   "metadata": {},
   "source": [
    "### (Old) Activity Equation\n",
    "$$\\frac{dv_i}{dt}=\\frac{1}{\\tau}(-qv_i+I_i-\\gamma\\sum_{j \\in R}{z_j} -\\alpha u_i)$$\n",
    "$$\\tau = 1.0; q=0.5; \\gamma=???; \\alpha = 0.2$$\n",
    "\n",
    "### (Old) Deactivation Equation\n",
    "$$\\frac{du_i}{dt}=-au_i+\\frac{z_i}{c_k}$$\n",
    "$$a=0.2$$"
   ]
  },
  {
   "cell_type": "code",
   "execution_count": 3,
   "metadata": {},
   "outputs": [
    {
     "name": "stdout",
     "output_type": "stream",
     "text": [
      "[0.2 0.3 0.5]\n"
     ]
    },
    {
     "ename": "NameError",
     "evalue": "name 'BASELINE_PARAMS' is not defined",
     "output_type": "error",
     "traceback": [
      "\u001b[1;31m---------------------------------------------------------------------------\u001b[0m",
      "\u001b[1;31mNameError\u001b[0m                                 Traceback (most recent call last)",
      "Cell \u001b[1;32mIn[3], line 6\u001b[0m\n\u001b[0;32m      4\u001b[0m I \u001b[39m=\u001b[39m np\u001b[39m.\u001b[39marray([\u001b[39m0.1\u001b[39m,\u001b[39m0.1\u001b[39m,\u001b[39m0.1\u001b[39m])\n\u001b[0;32m      5\u001b[0m \u001b[39mprint\u001b[39m(v)\n\u001b[1;32m----> 6\u001b[0m u \u001b[39m=\u001b[39m transform(v, BASELINE_PARAMS[\u001b[39m'\u001b[39m\u001b[39mbeta\u001b[39m\u001b[39m'\u001b[39m], BASELINE_PARAMS[\u001b[39m'\u001b[39m\u001b[39mmu\u001b[39m\u001b[39m'\u001b[39m])\n\u001b[0;32m      7\u001b[0m \u001b[39mprint\u001b[39m(u)\n\u001b[0;32m      8\u001b[0m u \u001b[39m-\u001b[39m np\u001b[39m.\u001b[39mdot(u, (\u001b[39m1\u001b[39m \u001b[39m-\u001b[39m np\u001b[39m.\u001b[39meye(\u001b[39m3\u001b[39m)))\u001b[39m.\u001b[39mshape \u001b[39m# dot product with reverse of the Identity matrix\u001b[39;00m\n",
      "\u001b[1;31mNameError\u001b[0m: name 'BASELINE_PARAMS' is not defined"
     ]
    }
   ],
   "source": [
    "# sum over all z's except for current index (in a vectorized fashion)\n",
    "v = np.array([0.2,0.3,0.5])\n",
    "z = np.array([0.1,0.1,0.1])\n",
    "I = np.array([0.1,0.1,0.1])\n",
    "print(v)\n",
    "z = transform(v, BASELINE_PARAMS['beta'], BASELINE_PARAMS['mu'])\n",
    "print(u)\n",
    "z - np.dot(z, (1 - np.eye(3))).shape # dot product with reverse of the Identity matrix\n",
    "new_v = (1 / BASELINE_PARAMS['tau']) * ((-1 * BASELINE_PARAMS['q'] * v) + I - (BASELINE_PARAMS['gamma'] * (z - np.dot(z, (1 - np.eye(3))))) - (BASELINE_PARAMS['alpha'] * u))\n",
    "print(new_v)"
   ]
  },
  {
   "cell_type": "code",
   "execution_count": null,
   "metadata": {},
   "outputs": [],
   "source": [
    "t = np.linspace(0, 20, 2000)\n",
    "\n",
    "def doodle(t, state, p):\n",
    "    '''\n",
    "    Because we can't provide a vectorized state (i.e. state can't be 2-d in solve_ivp()),\n",
    "    we hide the two vectors in state, so state is a vector of [v, u], \n",
    "    where v and u are both vectors of length `num_units`.\n",
    "    \n",
    "    Then, we can handle the change in v and change in u separately, \n",
    "    and concat them back together to be returned as the new state.\n",
    "    '''\n",
    "    # split v and u vectors\n",
    "    v = state[:p['num_units']]\n",
    "    print(f'v:{v.shape}')\n",
    "    z = transform(v, p['beta'], p['mu'])\n",
    "    print(f'z:{z.shape}')\n",
    "    u = state[p['num_units']:]\n",
    "    print(f'u:{u.shape}')\n",
    "    # calculate dv/dt and dz/dt\n",
    "    new_v = (1 / p['tau']) * ((-1 * p['q'] * v) +  p['I'] - (p['gamma'] * (z.T - np.dot(z.T, (1 - np.eye(p['num_units'])))).T) - (p['alpha'] * u)) # FIXME: u is a column vector, but should be a row vector and return a row vector (or something like that). check all of these insane .T's and stuff\n",
    "    print(f'new_v:{new_v.shape}') # FIXME: why is new_v shape (2,2). related to issue above, probably!\n",
    "    new_u = (-1 * p['a'] * u) + (z / p['c_k'])\n",
    "    print(f'new_u:{new_u.shape}')\n",
    "    # join v and u back together to be returned\n",
    "    return np.concatenate((new_v, new_u))\n",
    "    # return [\n",
    "    #     (1 / p['tau']) * ((-1 * p['q'] * state[0]) + p['i_1'] - inhibit(transform(state[0], p['beta'], p['mu']), p['gamma']) - (p['alpha'] * state[1])),\n",
    "    #     (-1 * p['a'] * state[1]) + (transform(state[0], p['beta'], p['mu']) / p['c_k'])\n",
    "    # ]"
   ]
  },
  {
   "attachments": {},
   "cell_type": "markdown",
   "metadata": {},
   "source": [
    "## Hyperparameter Tuning"
   ]
  },
  {
   "attachments": {},
   "cell_type": "markdown",
   "metadata": {},
   "source": [
    "Exploring effects of $i_1$ and $c_k$"
   ]
  },
  {
   "cell_type": "code",
   "execution_count": null,
   "metadata": {},
   "outputs": [],
   "source": [
    "import matplotlib.colors as mcolors\n",
    "COLORS = mcolors.TABLEAU_COLORS\n",
    "COLORS = list(COLORS.values())"
   ]
  },
  {
   "cell_type": "code",
   "execution_count": null,
   "metadata": {},
   "outputs": [
    {
     "name": "stdout",
     "output_type": "stream",
     "text": [
      "v:(2, 1)\n",
      "u:(2, 1)\n",
      "z:(2, 1)\n",
      "new_v:(2, 2)\n",
      "new_z:(2, 1)\n"
     ]
    },
    {
     "ename": "ValueError",
     "evalue": "all the input array dimensions except for the concatenation axis must match exactly, but along dimension 1, the array at index 0 has size 2 and the array at index 1 has size 1",
     "output_type": "error",
     "traceback": [
      "\u001b[1;31m---------------------------------------------------------------------------\u001b[0m",
      "\u001b[1;31mValueError\u001b[0m                                Traceback (most recent call last)",
      "Cell \u001b[1;32mIn[173], line 13\u001b[0m\n\u001b[0;32m      1\u001b[0m BASELINE_PARAMS \u001b[39m=\u001b[39m {\n\u001b[0;32m      2\u001b[0m     \u001b[39m'\u001b[39m\u001b[39mnum_units\u001b[39m\u001b[39m'\u001b[39m: \u001b[39m2\u001b[39m,\n\u001b[0;32m      3\u001b[0m     \u001b[39m'\u001b[39m\u001b[39mtau\u001b[39m\u001b[39m'\u001b[39m: \u001b[39m1.0\u001b[39m,\n\u001b[1;32m   (...)\u001b[0m\n\u001b[0;32m     11\u001b[0m     \u001b[39m'\u001b[39m\u001b[39mmu\u001b[39m\u001b[39m'\u001b[39m: \u001b[39m0.2\u001b[39m\n\u001b[0;32m     12\u001b[0m }\n\u001b[1;32m---> 13\u001b[0m result \u001b[39m=\u001b[39m solve_ivp(fun\u001b[39m=\u001b[39;49m\u001b[39mlambda\u001b[39;49;00m t, state: doodle(t, state, BASELINE_PARAMS), t_span\u001b[39m=\u001b[39;49m(\u001b[39m0\u001b[39;49m,\u001b[39m20\u001b[39;49m), t_eval\u001b[39m=\u001b[39;49mt, y0\u001b[39m=\u001b[39;49mnp\u001b[39m.\u001b[39;49mzeros(BASELINE_PARAMS[\u001b[39m'\u001b[39;49m\u001b[39mnum_units\u001b[39;49m\u001b[39m'\u001b[39;49m]\u001b[39m*\u001b[39;49m\u001b[39m2\u001b[39;49m), vectorized\u001b[39m=\u001b[39;49m\u001b[39mTrue\u001b[39;49;00m)\n\u001b[0;32m     14\u001b[0m v_vec \u001b[39m=\u001b[39m result\u001b[39m.\u001b[39my[:][:BASELINE_PARAMS[\u001b[39m'\u001b[39m\u001b[39mnum_units\u001b[39m\u001b[39m'\u001b[39m]]\n\u001b[0;32m     15\u001b[0m z_vec \u001b[39m=\u001b[39m result\u001b[39m.\u001b[39my[:][BASELINE_PARAMS[\u001b[39m'\u001b[39m\u001b[39mnum_units\u001b[39m\u001b[39m'\u001b[39m]:]\n",
      "File \u001b[1;32mc:\\Users\\Robbie\\Documents\\Documents\\Research\\Code_Ring_Network\\Code-Ring-Network\\Code_Ring_venv\\lib\\site-packages\\scipy\\integrate\\_ivp\\ivp.py:568\u001b[0m, in \u001b[0;36msolve_ivp\u001b[1;34m(fun, t_span, y0, method, t_eval, dense_output, events, vectorized, args, **options)\u001b[0m\n\u001b[0;32m    565\u001b[0m \u001b[39mif\u001b[39;00m method \u001b[39min\u001b[39;00m METHODS:\n\u001b[0;32m    566\u001b[0m     method \u001b[39m=\u001b[39m METHODS[method]\n\u001b[1;32m--> 568\u001b[0m solver \u001b[39m=\u001b[39m method(fun, t0, y0, tf, vectorized\u001b[39m=\u001b[39mvectorized, \u001b[39m*\u001b[39m\u001b[39m*\u001b[39moptions)\n\u001b[0;32m    570\u001b[0m \u001b[39mif\u001b[39;00m t_eval \u001b[39mis\u001b[39;00m \u001b[39mNone\u001b[39;00m:\n\u001b[0;32m    571\u001b[0m     ts \u001b[39m=\u001b[39m [t0]\n",
      "File \u001b[1;32mc:\\Users\\Robbie\\Documents\\Documents\\Research\\Code_Ring_Network\\Code-Ring-Network\\Code_Ring_venv\\lib\\site-packages\\scipy\\integrate\\_ivp\\rk.py:94\u001b[0m, in \u001b[0;36mRungeKutta.__init__\u001b[1;34m(self, fun, t0, y0, t_bound, max_step, rtol, atol, vectorized, first_step, **extraneous)\u001b[0m\n\u001b[0;32m     92\u001b[0m \u001b[39mself\u001b[39m\u001b[39m.\u001b[39mmax_step \u001b[39m=\u001b[39m validate_max_step(max_step)\n\u001b[0;32m     93\u001b[0m \u001b[39mself\u001b[39m\u001b[39m.\u001b[39mrtol, \u001b[39mself\u001b[39m\u001b[39m.\u001b[39matol \u001b[39m=\u001b[39m validate_tol(rtol, atol, \u001b[39mself\u001b[39m\u001b[39m.\u001b[39mn)\n\u001b[1;32m---> 94\u001b[0m \u001b[39mself\u001b[39m\u001b[39m.\u001b[39mf \u001b[39m=\u001b[39m \u001b[39mself\u001b[39;49m\u001b[39m.\u001b[39;49mfun(\u001b[39mself\u001b[39;49m\u001b[39m.\u001b[39;49mt, \u001b[39mself\u001b[39;49m\u001b[39m.\u001b[39;49my)\n\u001b[0;32m     95\u001b[0m \u001b[39mif\u001b[39;00m first_step \u001b[39mis\u001b[39;00m \u001b[39mNone\u001b[39;00m:\n\u001b[0;32m     96\u001b[0m     \u001b[39mself\u001b[39m\u001b[39m.\u001b[39mh_abs \u001b[39m=\u001b[39m select_initial_step(\n\u001b[0;32m     97\u001b[0m         \u001b[39mself\u001b[39m\u001b[39m.\u001b[39mfun, \u001b[39mself\u001b[39m\u001b[39m.\u001b[39mt, \u001b[39mself\u001b[39m\u001b[39m.\u001b[39my, \u001b[39mself\u001b[39m\u001b[39m.\u001b[39mf, \u001b[39mself\u001b[39m\u001b[39m.\u001b[39mdirection,\n\u001b[0;32m     98\u001b[0m         \u001b[39mself\u001b[39m\u001b[39m.\u001b[39merror_estimator_order, \u001b[39mself\u001b[39m\u001b[39m.\u001b[39mrtol, \u001b[39mself\u001b[39m\u001b[39m.\u001b[39matol)\n",
      "File \u001b[1;32mc:\\Users\\Robbie\\Documents\\Documents\\Research\\Code_Ring_Network\\Code-Ring-Network\\Code_Ring_venv\\lib\\site-packages\\scipy\\integrate\\_ivp\\base.py:154\u001b[0m, in \u001b[0;36mOdeSolver.__init__.<locals>.fun\u001b[1;34m(t, y)\u001b[0m\n\u001b[0;32m    152\u001b[0m \u001b[39mdef\u001b[39;00m \u001b[39mfun\u001b[39m(t, y):\n\u001b[0;32m    153\u001b[0m     \u001b[39mself\u001b[39m\u001b[39m.\u001b[39mnfev \u001b[39m+\u001b[39m\u001b[39m=\u001b[39m \u001b[39m1\u001b[39m\n\u001b[1;32m--> 154\u001b[0m     \u001b[39mreturn\u001b[39;00m \u001b[39mself\u001b[39;49m\u001b[39m.\u001b[39;49mfun_single(t, y)\n",
      "File \u001b[1;32mc:\\Users\\Robbie\\Documents\\Documents\\Research\\Code_Ring_Network\\Code-Ring-Network\\Code_Ring_venv\\lib\\site-packages\\scipy\\integrate\\_ivp\\base.py:141\u001b[0m, in \u001b[0;36mOdeSolver.__init__.<locals>.fun_single\u001b[1;34m(t, y)\u001b[0m\n\u001b[0;32m    140\u001b[0m \u001b[39mdef\u001b[39;00m \u001b[39mfun_single\u001b[39m(t, y):\n\u001b[1;32m--> 141\u001b[0m     \u001b[39mreturn\u001b[39;00m \u001b[39mself\u001b[39;49m\u001b[39m.\u001b[39;49m_fun(t, y[:, \u001b[39mNone\u001b[39;49;00m])\u001b[39m.\u001b[39mravel()\n",
      "File \u001b[1;32mc:\\Users\\Robbie\\Documents\\Documents\\Research\\Code_Ring_Network\\Code-Ring-Network\\Code_Ring_venv\\lib\\site-packages\\scipy\\integrate\\_ivp\\base.py:23\u001b[0m, in \u001b[0;36mcheck_arguments.<locals>.fun_wrapped\u001b[1;34m(t, y)\u001b[0m\n\u001b[0;32m     22\u001b[0m \u001b[39mdef\u001b[39;00m \u001b[39mfun_wrapped\u001b[39m(t, y):\n\u001b[1;32m---> 23\u001b[0m     \u001b[39mreturn\u001b[39;00m np\u001b[39m.\u001b[39masarray(fun(t, y), dtype\u001b[39m=\u001b[39mdtype)\n",
      "Cell \u001b[1;32mIn[173], line 13\u001b[0m, in \u001b[0;36m<lambda>\u001b[1;34m(t, state)\u001b[0m\n\u001b[0;32m      1\u001b[0m BASELINE_PARAMS \u001b[39m=\u001b[39m {\n\u001b[0;32m      2\u001b[0m     \u001b[39m'\u001b[39m\u001b[39mnum_units\u001b[39m\u001b[39m'\u001b[39m: \u001b[39m2\u001b[39m,\n\u001b[0;32m      3\u001b[0m     \u001b[39m'\u001b[39m\u001b[39mtau\u001b[39m\u001b[39m'\u001b[39m: \u001b[39m1.0\u001b[39m,\n\u001b[1;32m   (...)\u001b[0m\n\u001b[0;32m     11\u001b[0m     \u001b[39m'\u001b[39m\u001b[39mmu\u001b[39m\u001b[39m'\u001b[39m: \u001b[39m0.2\u001b[39m\n\u001b[0;32m     12\u001b[0m }\n\u001b[1;32m---> 13\u001b[0m result \u001b[39m=\u001b[39m solve_ivp(fun\u001b[39m=\u001b[39m\u001b[39mlambda\u001b[39;00m t, state: doodle(t, state, BASELINE_PARAMS), t_span\u001b[39m=\u001b[39m(\u001b[39m0\u001b[39m,\u001b[39m20\u001b[39m), t_eval\u001b[39m=\u001b[39mt, y0\u001b[39m=\u001b[39mnp\u001b[39m.\u001b[39mzeros(BASELINE_PARAMS[\u001b[39m'\u001b[39m\u001b[39mnum_units\u001b[39m\u001b[39m'\u001b[39m]\u001b[39m*\u001b[39m\u001b[39m2\u001b[39m), vectorized\u001b[39m=\u001b[39m\u001b[39mTrue\u001b[39;00m)\n\u001b[0;32m     14\u001b[0m v_vec \u001b[39m=\u001b[39m result\u001b[39m.\u001b[39my[:][:BASELINE_PARAMS[\u001b[39m'\u001b[39m\u001b[39mnum_units\u001b[39m\u001b[39m'\u001b[39m]]\n\u001b[0;32m     15\u001b[0m z_vec \u001b[39m=\u001b[39m result\u001b[39m.\u001b[39my[:][BASELINE_PARAMS[\u001b[39m'\u001b[39m\u001b[39mnum_units\u001b[39m\u001b[39m'\u001b[39m]:]\n",
      "Cell \u001b[1;32mIn[172], line 25\u001b[0m, in \u001b[0;36mdoodle\u001b[1;34m(t, state, p)\u001b[0m\n\u001b[0;32m     23\u001b[0m \u001b[39mprint\u001b[39m(\u001b[39mf\u001b[39m\u001b[39m'\u001b[39m\u001b[39mnew_z:\u001b[39m\u001b[39m{\u001b[39;00mnew_z\u001b[39m.\u001b[39mshape\u001b[39m}\u001b[39;00m\u001b[39m'\u001b[39m)\n\u001b[0;32m     24\u001b[0m \u001b[39m# join v and z back together to be returned\u001b[39;00m\n\u001b[1;32m---> 25\u001b[0m \u001b[39mreturn\u001b[39;00m np\u001b[39m.\u001b[39;49mconcatenate((new_v, new_z))\n",
      "\u001b[1;31mValueError\u001b[0m: all the input array dimensions except for the concatenation axis must match exactly, but along dimension 1, the array at index 0 has size 2 and the array at index 1 has size 1"
     ]
    }
   ],
   "source": [
    "BASELINE_PARAMS = {\n",
    "    'num_units': 2,\n",
    "    'tau': 1.0,\n",
    "    'q': 0.5,\n",
    "    'I': np.array([0.45, 0.5]),#.reshape(2,1),\n",
    "    'gamma': 0.5,\n",
    "    'alpha': 0.2,\n",
    "    'a': 0.2,\n",
    "    'c_k': 2.0,\n",
    "    'beta': 10.0,\n",
    "    'mu': 0.2\n",
    "}\n",
    "result = solve_ivp(fun=lambda t, state: doodle(t, state, BASELINE_PARAMS), t_span=(0,20), t_eval=t, y0=np.zeros(BASELINE_PARAMS['num_units']*2), vectorized=True)\n",
    "v_vec = result.y[:][:BASELINE_PARAMS['num_units']]\n",
    "u_vec = result.y[:][BASELINE_PARAMS['num_units']:]\n",
    "fig,ax = plt.subplots()\n",
    "for i in range(BASELINE_PARAMS['num_units']):\n",
    "    color = COLORS[i]\n",
    "    ax.plot(t, v_vec[i], label=f'v_{i}', c=color, linestyle='dashed')\n",
    "    ax.plot(t, u_vec[i], label=f'u_{i}', c=color, linestyle='dotted')\n",
    "    ax.plot(t, transform(v_vec[i], BASELINE_PARAMS['beta'], BASELINE_PARAMS['mu']), label=f'z_{i}', c=color, linestyle='solid')\n",
    "\n",
    "ax.legend()\n",
    "# ax.set_ylim([0, 1])\n",
    "ax.set_xlabel('t')\n",
    "ax.set_title(f\"Single Ring Neuron Dynamics with Baseline Parameters\\ntau={BASELINE_PARAMS['tau']}|q={BASELINE_PARAMS['q']}|I={BASELINE_PARAMS['I']}|alpha={BASELINE_PARAMS['alpha']}|a={BASELINE_PARAMS['a']}|c_k={BASELINE_PARAMS['c_k']}|beta={BASELINE_PARAMS['beta']}|mu={BASELINE_PARAMS['mu']}\".replace('.','p').replace('|',' - '))"
   ]
  },
  {
   "cell_type": "code",
   "execution_count": null,
   "metadata": {},
   "outputs": [],
   "source": [
    "for i_1 in [0.0, 0.2, 0.5, 0.8, 1.0, 2.0]:\n",
    "    for c_k in [0.1, 0.2, 0.5, 0.8, 1.0, 2.0]:\n",
    "        params = {\n",
    "            'tau': 1.0,\n",
    "            'q': 0.5,\n",
    "            'i_1': i_1,\n",
    "            'alpha': 0.2,\n",
    "            'a': 0.2,\n",
    "            'c_k': c_k,\n",
    "            'beta': 10.0,\n",
    "            'mu': 0.2\n",
    "        }\n",
    "        result = solve_ivp(fun=lambda t, state: doodle(t, state, params), t_span=(0,20), t_eval=t, y0=y0)\n",
    "        fig,ax = plt.subplots()\n",
    "        ax.plot(t,result.y[0].T,label='v_i')\n",
    "        ax.plot(t,result.y[1].T,label='u_i')\n",
    "        ax.plot(t,transform(result.y[0], params['beta'], params['mu']).T,label='z_i')\n",
    "        ax.legend()\n",
    "        ax.set_ylim([0, 1])\n",
    "        ax.set_xlabel('t')\n",
    "        ax.set_title(f\"tau={params['tau']}|q={params['q']}|i_1={params['i_1']}|alpha={params['alpha']}|a={params['a']}|c_k={params['c_k']}|beta={params['beta']}|mu={params['mu']}\".replace('.','p').replace('|',' - '))\n",
    "        plt.tight_layout()\n",
    "        plt.savefig(f\"plots\\\\tau={params['tau']}|q={params['q']}|i_1={params['i_1']}|alpha={params['alpha']}|a={params['a']}|c_k={params['c_k']}|beta={params['beta']}|mu={params['mu']}\".replace('.','p').replace('|',' - '))\n",
    "        plt.close()"
   ]
  }
 ],
 "metadata": {
  "kernelspec": {
   "display_name": "Code_Ring_venv",
   "language": "python",
   "name": "python3"
  },
  "language_info": {
   "codemirror_mode": {
    "name": "ipython",
    "version": 3
   },
   "file_extension": ".py",
   "mimetype": "text/x-python",
   "name": "python",
   "nbconvert_exporter": "python",
   "pygments_lexer": "ipython3",
   "version": "3.10.0rc1"
  },
  "orig_nbformat": 4
 },
 "nbformat": 4,
 "nbformat_minor": 2
}
