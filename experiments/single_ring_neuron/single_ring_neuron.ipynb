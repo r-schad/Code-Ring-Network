{
 "cells": [
  {
   "attachments": {},
   "cell_type": "markdown",
   "metadata": {},
   "source": [
    "# Single Ring Neuron Experiment"
   ]
  },
  {
   "attachments": {},
   "cell_type": "markdown",
   "metadata": {},
   "source": [
    "## Imports"
   ]
  },
  {
   "cell_type": "code",
   "execution_count": 1,
   "metadata": {},
   "outputs": [],
   "source": [
    "import numpy as np\n",
    "from scipy.integrate import solve_ivp\n",
    "from scipy.stats import norm\n",
    "import matplotlib.pyplot as plt\n",
    "import matplotlib.colors as mcolors\n",
    "import imageio\n",
    "import datetime as dt\n",
    "import os"
   ]
  },
  {
   "attachments": {},
   "cell_type": "markdown",
   "metadata": {},
   "source": [
    "## Equations"
   ]
  },
  {
   "attachments": {},
   "cell_type": "markdown",
   "metadata": {},
   "source": [
    "### Output Transform Function (Sigmoid)\n",
    "$$z_{r}=f(v_{i})=\\frac{1}{1+e^{-\\beta (v_{i} - \\mu)}}$$\n",
    "$$\\beta = 10; \\mu = 0.2$$"
   ]
  },
  {
   "cell_type": "code",
   "execution_count": 2,
   "metadata": {},
   "outputs": [],
   "source": [
    "def transform(v, beta, mu):\n",
    "    return 1 / (1 + (np.e ** ((-1*beta) * (v - mu))))"
   ]
  },
  {
   "attachments": {},
   "cell_type": "markdown",
   "metadata": {},
   "source": [
    "### Possible New Equations ###\n",
    "\n",
    "Activation: $\\frac{dv}{dt}=\\frac{1}{\\tau}(-\\lambda uv+i);$\n",
    "$\\tau = 1.0; \\lambda=10$\n",
    "\n",
    "Deactivation \n",
    "$\\frac{du}{dt}=-\\rho u+\\frac{z}{c};$\n",
    "$\\rho=1.0$\n",
    "\n",
    "Output: $z=f(v)=\\frac{1}{1+e^{-\\beta (v - \\mu)}};$\n",
    "$\\beta = 40; \\mu = 0.1$"
   ]
  },
  {
   "attachments": {},
   "cell_type": "markdown",
   "metadata": {},
   "source": [
    "### Activity Equation\n",
    "$$\\frac{dv_i}{dt}=\\frac{1}{\\tau}(-\\lambda v_i+i_1-\\alpha u_i)$$ \n",
    "$$\\tau = 1.0; \\lambda=0.5; \\alpha = 0.2$$\n",
    "\n",
    "### Deactivation Equation\n",
    "$$\\frac{du_i}{dt}=-\\rho u_i+\\frac{z_i}{c_k}$$\n",
    "$$\\rho=0.2$$"
   ]
  },
  {
   "cell_type": "code",
   "execution_count": 3,
   "metadata": {},
   "outputs": [],
   "source": [
    "def doodle(t, state, p):\n",
    "    return [\n",
    "        # (1 / p['tau']) * ((-1 * p['lambda'] * state[0]) + (p['i']) - (p['alpha'] * state[1])),\n",
    "        (1 / p['tau']) * ((-1 * p['lambda'] * state[1] * state[0]) + (p['i'])), #- (p['alpha'] * state[1])),\n",
    "        (-1 * p['rho'] * state[1]) + (transform(state[0], p['beta'], p['mu']) / p['c'])\n",
    "    ]"
   ]
  },
  {
   "attachments": {},
   "cell_type": "markdown",
   "metadata": {},
   "source": [
    "## Hyperparameter Tuning"
   ]
  },
  {
   "cell_type": "markdown",
   "metadata": {},
   "source": [
    "### Multi-trial U, or V, or Z plot"
   ]
  },
  {
   "cell_type": "code",
   "execution_count": 59,
   "metadata": {},
   "outputs": [
    {
     "ename": "ValueError",
     "evalue": "`t_eval` must be 1-dimensional.",
     "output_type": "error",
     "traceback": [
      "\u001b[1;31m---------------------------------------------------------------------------\u001b[0m",
      "\u001b[1;31mValueError\u001b[0m                                Traceback (most recent call last)",
      "Cell \u001b[1;32mIn[59], line 15\u001b[0m\n\u001b[0;32m      2\u001b[0m \u001b[39mfor\u001b[39;00m c_k \u001b[39min\u001b[39;00m [\u001b[39m0.01\u001b[39m, \u001b[39m0.2\u001b[39m, \u001b[39m0.5\u001b[39m, \u001b[39m0.8\u001b[39m, \u001b[39m1.0\u001b[39m, \u001b[39m2.0\u001b[39m, \u001b[39m3.0\u001b[39m]:\n\u001b[0;32m      3\u001b[0m \u001b[39m# for i in [0.05, 0.1, 0.15, 0.2, 0.25, 0.3, 50]:\u001b[39;00m\n\u001b[0;32m      4\u001b[0m \u001b[39m# for i in [0.1]:\u001b[39;00m\n\u001b[0;32m      5\u001b[0m     params \u001b[39m=\u001b[39m {\n\u001b[0;32m      6\u001b[0m         \u001b[39m'\u001b[39m\u001b[39mtau\u001b[39m\u001b[39m'\u001b[39m: \u001b[39m1.0\u001b[39m,\n\u001b[0;32m      7\u001b[0m         \u001b[39m'\u001b[39m\u001b[39mlambda\u001b[39m\u001b[39m'\u001b[39m: \u001b[39m10.0\u001b[39m,\n\u001b[1;32m   (...)\u001b[0m\n\u001b[0;32m     13\u001b[0m         \u001b[39m'\u001b[39m\u001b[39mmu\u001b[39m\u001b[39m'\u001b[39m: \u001b[39m0.1\u001b[39m\n\u001b[0;32m     14\u001b[0m     }\n\u001b[1;32m---> 15\u001b[0m     result \u001b[39m=\u001b[39m solve_ivp(fun\u001b[39m=\u001b[39;49m\u001b[39mlambda\u001b[39;49;00m t, state: doodle(t, state, params), t_span\u001b[39m=\u001b[39;49m(\u001b[39m0\u001b[39;49m,\u001b[39m20\u001b[39;49m), t_eval\u001b[39m=\u001b[39;49mt, y0\u001b[39m=\u001b[39;49my0)\n\u001b[0;32m     16\u001b[0m     \u001b[39m# fig,ax = plt.subplots()\u001b[39;00m\n\u001b[0;32m     17\u001b[0m     \u001b[39m# ax.plot(t,result.y[0].T,label=f'v with i={i}')\u001b[39;00m\n\u001b[0;32m     18\u001b[0m     \u001b[39m# ax.plot(t,result.y[1].T,label=f'u with i={i}')\u001b[39;00m\n\u001b[0;32m     19\u001b[0m     ax\u001b[39m.\u001b[39mplot(t,transform(result\u001b[39m.\u001b[39my[\u001b[39m0\u001b[39m], params[\u001b[39m'\u001b[39m\u001b[39mbeta\u001b[39m\u001b[39m'\u001b[39m], params[\u001b[39m'\u001b[39m\u001b[39mmu\u001b[39m\u001b[39m'\u001b[39m])\u001b[39m.\u001b[39mT,label\u001b[39m=\u001b[39m\u001b[39mf\u001b[39m\u001b[39m'\u001b[39m\u001b[39mz with i=\u001b[39m\u001b[39m{\u001b[39;00mi\u001b[39m}\u001b[39;00m\u001b[39m'\u001b[39m)\n",
      "File \u001b[1;32mc:\\Users\\Robbie\\Documents\\Documents\\Research\\Code_Ring_Network\\Code-Ring-Network\\Code_Ring_venv\\lib\\site-packages\\scipy\\integrate\\_ivp\\ivp.py:548\u001b[0m, in \u001b[0;36msolve_ivp\u001b[1;34m(fun, t_span, y0, method, t_eval, dense_output, events, vectorized, args, **options)\u001b[0m\n\u001b[0;32m    546\u001b[0m t_eval \u001b[39m=\u001b[39m np\u001b[39m.\u001b[39masarray(t_eval)\n\u001b[0;32m    547\u001b[0m \u001b[39mif\u001b[39;00m t_eval\u001b[39m.\u001b[39mndim \u001b[39m!=\u001b[39m \u001b[39m1\u001b[39m:\n\u001b[1;32m--> 548\u001b[0m     \u001b[39mraise\u001b[39;00m \u001b[39mValueError\u001b[39;00m(\u001b[39m\"\u001b[39m\u001b[39m`t_eval` must be 1-dimensional.\u001b[39m\u001b[39m\"\u001b[39m)\n\u001b[0;32m    550\u001b[0m \u001b[39mif\u001b[39;00m np\u001b[39m.\u001b[39many(t_eval \u001b[39m<\u001b[39m \u001b[39mmin\u001b[39m(t0, tf)) \u001b[39mor\u001b[39;00m np\u001b[39m.\u001b[39many(t_eval \u001b[39m>\u001b[39m \u001b[39mmax\u001b[39m(t0, tf)):\n\u001b[0;32m    551\u001b[0m     \u001b[39mraise\u001b[39;00m \u001b[39mValueError\u001b[39;00m(\u001b[39m\"\u001b[39m\u001b[39mValues in `t_eval` are not within `t_span`.\u001b[39m\u001b[39m\"\u001b[39m)\n",
      "\u001b[1;31mValueError\u001b[0m: `t_eval` must be 1-dimensional."
     ]
    },
    {
     "data": {
      "image/png": "[encoded data removed]",
      "text/plain": [
       "<Figure size 640x480 with 1 Axes>"
      ]
     },
     "metadata": {},
     "output_type": "display_data"
    }
   ],
   "source": [
    "fig,ax = plt.subplots()\n",
    "for c in [0.01, 0.2, 0.5, 0.8, 1.0, 2.0, 3.0]:\n",
    "# for i in [0.05, 0.1, 0.15, 0.2, 0.25, 0.3, 50]:\n",
    "# for i in [0.1]:\n",
    "    params = {\n",
    "        'tau': 1.0,\n",
    "        'lambda': 10.0,\n",
    "        'i': 1.0,\n",
    "        # 'alpha': 0.2,\n",
    "        'rho': 0.5,\n",
    "        'c': c,\n",
    "        'beta': 40.0,\n",
    "        'mu': 0.1\n",
    "    }\n",
    "    result = solve_ivp(fun=lambda t, state: doodle(t, state, params), t_span=(0,20), t_eval=t, y0=y0)\n",
    "    # fig,ax = plt.subplots()\n",
    "    # ax.plot(t,result.y[0].T,label=f'v with i={i}')\n",
    "    # ax.plot(t,result.y[1].T,label=f'u with i={i}')\n",
    "    ax.plot(t,transform(result.y[0], params['beta'], params['mu']).T,label=f'z with i={i}')\n",
    "    ax.legend(loc='lower right')\n",
    "    # ax.set_ylim([0, 1])\n",
    "    ax.set_xlabel('t')\n",
    "    ax.set_ylabel('z')\n",
    "    # ax.set_title(f\"Output (z) Over Varying i\\ntau={params['tau']}|i={params['i']}|alpha={params['alpha']}|rho={params['rho']}|beta={params['beta']}|mu={params['mu']}\".replace('.','p').replace('|',' - '))\n",
    "    plt.tight_layout()\n",
    "    # plt.savefig(f\"plots\\\\tau={params['tau']}|lambda={params['lambda']}|i={params['i']}|alpha={params['alpha']}|rho={params['rho']}|c={params['c']}|beta={params['beta']}|mu={params['mu']}\".replace('.','p').replace('|',' - '))\n",
    "    # plt.show()"
   ]
  },
  {
   "cell_type": "markdown",
   "metadata": {},
   "source": [
    "### Single Trial U-V-Z Plot"
   ]
  },
  {
   "cell_type": "code",
   "execution_count": 124,
   "metadata": {},
   "outputs": [
    {
     "data": {
      "text/plain": [
       "Text(0.5, 1.0, 'Single Ring Neuron Dynamics with Baseline Parameters\\ntau=1p0 - lambda=100p0 - i=1p0 - rho=0p1 - c=0p3 - beta=50p0 - mu=0p1')"
      ]
     },
     "execution_count": 124,
     "metadata": {},
     "output_type": "execute_result"
    },
    {
     "data": {
      "image/png": "[encoded data removed]",
      "text/plain": [
       "<Figure size 640x480 with 1 Axes>"
      ]
     },
     "metadata": {},
     "output_type": "display_data"
    }
   ],
   "source": [
    "BASELINE_PARAMS = {\n",
    "    'tau': 1.0,\n",
    "    'lambda': 100.0,\n",
    "    'i': 1.0,\n",
    "    'rho': 0.1,\n",
    "    'c': 0.3,\n",
    "    'beta': 50.0,\n",
    "    'mu': 0.1\n",
    "}\n",
    "t = np.linspace(0, 10, 500)\n",
    "y0 = [0.0, 0.0]\n",
    "result = solve_ivp(fun=lambda t, state: doodle(t, state, BASELINE_PARAMS), t_span=(0,20), t_eval=t, y0=y0)\n",
    "fig,ax = plt.subplots()\n",
    "ax.plot(t,result.y[0].T,label='v_i')\n",
    "ax.plot(t,result.y[1].T,label='u_i')\n",
    "ax.plot(t,transform(result.y[0], BASELINE_PARAMS['beta'], BASELINE_PARAMS['mu']).T,label='z_i')\n",
    "ax.legend()\n",
    "ax.set_ylim([0, 1])\n",
    "ax.set_xlabel('t')\n",
    "ax.set_title(f\"Single Ring Neuron Dynamics with Baseline Parameters\\ntau={BASELINE_PARAMS['tau']}|lambda={BASELINE_PARAMS['lambda']}|i={BASELINE_PARAMS['i']}|rho={BASELINE_PARAMS['rho']}|c={BASELINE_PARAMS['c']}|beta={BASELINE_PARAMS['beta']}|mu={BASELINE_PARAMS['mu']}\".replace('.','p').replace('|',' - '))"
   ]
  },
  {
   "cell_type": "markdown",
   "metadata": {},
   "source": [
    "### Phase Plane Trajectories over Nullclines"
   ]
  },
  {
   "cell_type": "code",
   "execution_count": 125,
   "metadata": {},
   "outputs": [],
   "source": [
    "def create_frame(xs, ys, t, nullclines, gif_dir) -> None:\n",
    "    '''\n",
    "    :param xs list: a list of the x-values of the doodle\n",
    "    :param ys list: a list of the y-values of the doodle\n",
    "    :param t int: the current timestep in the doodle\n",
    "\n",
    "    TODO file naming\n",
    "    '''\n",
    "    # plot nullclines in color\n",
    "    COLORS = list(mcolors.TABLEAU_COLORS.values())\n",
    "    if nullclines != []:\n",
    "        for nc in range(len(nullclines)):\n",
    "            plt.plot(nullclines[nc][0], nullclines[nc][1], color=COLORS[nc])\n",
    "\n",
    "    plt.axvline(x=0, c=\"black\", linewidth=0.5)\n",
    "    plt.axhline(y=0, c=\"black\", linewidth=0.5)\n",
    "    \n",
    "    # plot trajectory\n",
    "    plt.plot(xs[:(t+1)], ys[:(t+1)], color = 'gray' )\n",
    "    plt.plot(xs[t], ys[t], color = 'black', marker = 'o' )\n",
    "    plt.xlim([-1, 1])\n",
    "    plt.xlabel('v', fontsize = 14)\n",
    "    plt.ylim([-1, 1])\n",
    "    plt.ylabel('u', fontsize = 14)\n",
    "    plt.title(f\"Relationship between v and u at step {t}\\nSingle Ring Neuron Dynamics with Baseline Parameters\\ntau={BASELINE_PARAMS['tau']}|lambda={BASELINE_PARAMS['lambda']}|i={BASELINE_PARAMS['i']}|rho={BASELINE_PARAMS['rho']}|c={BASELINE_PARAMS['c']}|beta={BASELINE_PARAMS['beta']}|mu={BASELINE_PARAMS['mu']}\".replace('.','p').replace('|',' - '),\n",
    "            fontsize=14)\n",
    "    plt.savefig(f'{gif_dir}\\\\img_{t}.png',\n",
    "                transparent = False,\n",
    "                facecolor = 'white'\n",
    "            )\n",
    "    plt.close()"
   ]
  },
  {
   "cell_type": "code",
   "execution_count": 126,
   "metadata": {},
   "outputs": [],
   "source": [
    "params = {\n",
    "    'tau': 1.0,\n",
    "    'lambda': 100.0,\n",
    "    'i': 1,\n",
    "    'rho': 0.1,\n",
    "    'c': 0.3,\n",
    "    'beta': 50.0,\n",
    "    'mu': 0.1\n",
    "}\n",
    "\n",
    "t = np.linspace(0, 10, 200)\n",
    "y0 = [0.0, 0.0]\n",
    "result = solve_ivp(fun=lambda t, state: doodle(t, state, params), t_span=(0,20), t_eval=t, y0=y0)\n",
    "\n",
    "v = np.linspace(-1, 5, 600)\n",
    "nullcline_1 = params['i'] / (params['lambda'] * v)\n",
    "nullcline_2 = (1 / (params['rho'] * params['c'])) * (1 / (1 + np.exp(-1 * params['beta'] * (v - params['mu']))))\n",
    "\n",
    "frames = []\n",
    "dt_str = str(dt.datetime.now()).replace(':', '-').replace(' ', '_').split('.')[0]\n",
    "\n",
    "gif_path = f'.\\\\plots\\\\gifs\\\\gifs_{dt_str}'\n",
    "\n",
    "if not os.path.isdir(gif_path):\n",
    "    os.makedirs(gif_path)\n",
    "\n",
    "for t in range(len(result.t)):\n",
    "    create_frame(result.y[0], result.y[1], t, [(v, nullcline_1), (v, nullcline_2)], gif_path)\n",
    "    image = imageio.v2.imread(gif_path + f'\\\\img_{t}.png')\n",
    "    frames.append(image)\n",
    "\n",
    "imageio.mimsave(f'{gif_path}\\\\_output.gif', frames, duration=2)"
   ]
  }
 ],
 "metadata": {
  "kernelspec": {
   "display_name": "Code_Ring_venv",
   "language": "python",
   "name": "python3"
  },
  "language_info": {
   "codemirror_mode": {
    "name": "ipython",
    "version": 3
   },
   "file_extension": ".py",
   "mimetype": "text/x-python",
   "name": "python",
   "nbconvert_exporter": "python",
   "pygments_lexer": "ipython3",
   "version": "3.10.0rc1"
  },
  "orig_nbformat": 4
 },
 "nbformat": 4,
 "nbformat_minor": 2
}
